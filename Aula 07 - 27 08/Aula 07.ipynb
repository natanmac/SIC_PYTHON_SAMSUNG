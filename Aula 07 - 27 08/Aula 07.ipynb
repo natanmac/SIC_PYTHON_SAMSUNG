{
 "cells": [
  {
   "cell_type": "code",
   "execution_count": 1,
   "metadata": {},
   "outputs": [
    {
     "name": "stdout",
     "output_type": "stream",
     "text": [
      "[10, 20]\n",
      "[20, 10]\n",
      "20\n"
     ]
    }
   ],
   "source": [
    "def swap1(S, x, y):\n",
    "  t = S[x]\n",
    "  S[x] = S[y]\n",
    "  S[y]= t\n",
    "\n",
    "S = [10, 20]\n",
    "print(S)\n",
    "swap1(S, 0, 1)\n",
    "print(S)\n",
    "S = [10, 20]\n",
    "print(S[1])"
   ]
  },
  {
   "cell_type": "code",
   "execution_count": 2,
   "metadata": {},
   "outputs": [
    {
     "name": "stdout",
     "output_type": "stream",
     "text": [
      "[10, 20]\n",
      "[20, 10]\n"
     ]
    }
   ],
   "source": [
    "def swap2(S, x, y):\n",
    "  S[x], S[y] = S[y], S[x]\n",
    "\n",
    "S = [10, 20]\n",
    "print(S)\n",
    "swap2(S, 0, 1)\n",
    "print(S)"
   ]
  },
  {
   "cell_type": "code",
   "execution_count": 3,
   "metadata": {},
   "outputs": [
    {
     "name": "stdout",
     "output_type": "stream",
     "text": [
      "[50, 30, 40, 10, 20]\n",
      "[30, 40, 10, 20, 50]\n",
      "[30, 10, 20, 40, 50]\n",
      "[10, 20, 30, 40, 50]\n",
      "[10, 20, 30, 40, 50]\n",
      "[10, 20, 30, 40, 50]\n"
     ]
    }
   ],
   "source": [
    "def bubblesort (S):\n",
    "  n = len(S)\n",
    "  for i in range(n):\n",
    "    print(S)\n",
    "    for j in range(n - 1):\n",
    "      if S[j] > S[j + 1]:\n",
    "        S[j], S[j + 1] = S[j + 1], S[j]\n",
    "\n",
    "\n",
    "S = [50, 30, 40, 10, 20]\n",
    "bubblesort(S)\n",
    "print(S)"
   ]
  },
  {
   "cell_type": "code",
   "execution_count": 4,
   "metadata": {},
   "outputs": [
    {
     "name": "stdout",
     "output_type": "stream",
     "text": [
      "[] [50, 30, 40, 10, 20]\n",
      "[10] [50, 30, 40, 20]\n",
      "[10, 20] [50, 30, 40]\n",
      "[10, 20, 30] [50, 40]\n",
      "[10, 20, 30, 40] [50]\n",
      "[10, 20, 30, 40, 50]\n"
     ]
    }
   ],
   "source": [
    "def selectionsort1(S):\n",
    "\tR = []\n",
    "\twhile len(S) > 0:\n",
    "\t\tprint(R, S)\n",
    "\t\tsmallest = S.index(min(S))\n",
    "\t\tR.append(S[smallest])\n",
    "\t\tS.pop(smallest)\n",
    "\treturn R\n",
    "\n",
    "S = [50, 30, 40, 10, 20]\n",
    "R = selectionsort1(S)\n",
    "print (R)\n"
   ]
  },
  {
   "cell_type": "code",
   "execution_count": 5,
   "metadata": {},
   "outputs": [
    {
     "name": "stdout",
     "output_type": "stream",
     "text": [
      "[50, 30, 40, 10, 20]\n",
      "[10, 30, 40, 50, 20]\n",
      "[10, 20, 40, 50, 30]\n",
      "[10, 20, 30, 50, 40]\n",
      "[10, 20, 30, 40, 50]\n"
     ]
    }
   ],
   "source": [
    "def selectionsort2(S):\n",
    "  n = len(S)\n",
    "  for i in range(n - 1):\n",
    "    print(S)\n",
    "    smallest = i\n",
    "    for j in range(i + 1, n):\n",
    "      if S[j] < S[smallest]:\n",
    "        smallest = j\n",
    "    S[i], S[smallest] = S[smallest], S[i]\n",
    "\n",
    "S = [50, 30, 40, 10, 20]\n",
    "selectionsort2(S)\n",
    "print(S)"
   ]
  },
  {
   "cell_type": "code",
   "execution_count": 6,
   "metadata": {},
   "outputs": [
    {
     "name": "stdout",
     "output_type": "stream",
     "text": [
      "[] [50, 30, 40, 10, 20]\n",
      "[10, 20, 30, 40, 50]\n"
     ]
    }
   ],
   "source": [
    "def insertionsort1(S):\n",
    "  n = len(S)\n",
    "  R=[]\n",
    "  while len(S) > 0:\n",
    "    print(R, S)\n",
    "    x = S.pop(0)\n",
    "    j = len(R)\n",
    "    while (j >= 0) and (S[j] > x):\n",
    "      j -= 1\n",
    "    R.insert(j + 1, x)\n",
    "    return R\n",
    "\n",
    "S = [50, 30, 40, 10, 20]\n",
    "insertionsort1(S)\n",
    "print(R)"
   ]
  },
  {
   "cell_type": "code",
   "execution_count": 7,
   "metadata": {},
   "outputs": [
    {
     "name": "stdout",
     "output_type": "stream",
     "text": [
      "[50, 30, 40, 10, 20]\n",
      "[30, 50, 40, 10, 20]\n",
      "[30, 40, 50, 10, 20]\n",
      "[10, 30, 40, 50, 20]\n",
      "[10, 20, 30, 40, 50]\n"
     ]
    }
   ],
   "source": [
    "def insertionsort2(S):\n",
    "  n = len(S)\n",
    "  for i in range(1, n):\n",
    "    print(S)\n",
    "    x = S[i]\n",
    "    j = i - 1\n",
    "    while j >= 0 and S[j] > x:\n",
    "      S[j + 1] = S[j]\n",
    "      j-=1\n",
    "      S[j + 1] = x\n",
    "    \n",
    "\n",
    "S = [50, 30, 40, 10, 20]\n",
    "insertionsort2(S)\n",
    "print(S)\n"
   ]
  },
  {
   "cell_type": "code",
   "execution_count": 8,
   "metadata": {},
   "outputs": [
    {
     "name": "stdout",
     "output_type": "stream",
     "text": [
      "[27, 10, 12, 20, 25, 13, 15, 22]\n",
      "[27, 10, 12, 20]\n",
      "[27, 10]\n",
      "[12, 20]\n",
      "[25, 13, 15, 22]\n",
      "[25, 13]\n",
      "[15, 22]\n",
      "[10, 12, 13, 15, 20, 22, 25, 27]\n"
     ]
    }
   ],
   "source": [
    "def merge1(S, L, R):\n",
    "  k= 0\n",
    "  while len(L) > 0 and len(R) > 0:\n",
    "    if L[0] <= R[0]:\n",
    "      S[k] = L.pop(0)\n",
    "    else:\n",
    "      S[k] = R.pop(0)\n",
    "    k += 1\n",
    "  while len(L)!= 0: \n",
    "      S[k] = L.pop(0)\n",
    "      k += 1\n",
    "  while len(R) != 0:\n",
    "      S[k] = R.pop(0)\n",
    "      k+ 1\n",
    "\n",
    "def mergesort1(S):\n",
    "  n = len(S)\n",
    "  if n > 1:\n",
    "    print(S)\n",
    "    mid = n//2\n",
    "    L, R= S[:mid], S[mid:]\n",
    "    mergesort1(L)\n",
    "    mergesort1(R)\n",
    "    merge1(S, L, R)\n",
    "\n",
    "S = [27, 10, 12, 20, 25, 13, 15, 22]\n",
    "mergesort1(S)\n",
    "print(S)"
   ]
  },
  {
   "cell_type": "code",
   "execution_count": 9,
   "metadata": {},
   "outputs": [
    {
     "name": "stdout",
     "output_type": "stream",
     "text": [
      "[27, 10, 12, 20, 25, 13, 15, 22]\n",
      "[27, 10, 12, 20, 25, 13, 15, 22]\n",
      "[27, 10, 12, 20, 25, 13, 15, 22]\n",
      "[10, 27, 12, 20, 25, 13, 15, 22]\n",
      "[10, 12, 20, 27, 25, 13, 15, 22]\n",
      "[10, 12, 20, 27, 25, 13, 15, 22]\n",
      "[10, 12, 20, 27, 13, 25, 15, 22]\n",
      "[10, 12, 13, 15, 20, 22, 25, 27]\n"
     ]
    }
   ],
   "source": [
    "def merge2(S, low, mid, high):\n",
    "  R = []\n",
    "  i, j = low, mid + 1\n",
    "  while i <= mid and j <= high:\n",
    "    if S[i] < S[j]:\n",
    "      R.append(S[i]); \n",
    "      i += 1\n",
    "    else:\n",
    "      R.append(S[j]); \n",
    "      j += 1\n",
    "  if i > mid:\n",
    "      for k in range(j, high + 1):\n",
    "        R.append(S[j])\n",
    "  else:\n",
    "      for k in range(i, mid + 1):\n",
    "        R.append(S[i])\n",
    "  for k in range(len(R)):\n",
    "        S[low + k] = R[k]\n",
    "\n",
    "def mergesort2(S, low, high):\n",
    "  if low < high:\n",
    "    print(S)\n",
    "    mid =(low + high) // 2\n",
    "    mergesort2(S, low, mid)\n",
    "    mergesort2(S, mid + 1, high)\n",
    "    merge2(S, low, mid, high)\n",
    "\n",
    "S = [27, 10, 12, 20, 25, 13, 15, 22]\n",
    "mergesort2(S,0,len(S)-1)\n",
    "print(S)\n"
   ]
  },
  {
   "cell_type": "code",
   "execution_count": 10,
   "metadata": {},
   "outputs": [
    {
     "name": "stdout",
     "output_type": "stream",
     "text": [
      "[15, 10, 12, 20, 25, 13, 22]\n",
      "[15, 10, 12, 20, 25, 13, 22]\n",
      "[15, 10, 12, 13, 25, 20, 22]\n",
      "[13, 10, 12, 15, 25, 20, 22]\n",
      "[13, 10, 12, 15, 25, 20, 22]\n",
      "[12, 10, 13, 15, 25, 20, 22]\n",
      "[10, 12, 13, 15, 25, 20, 22]\n",
      "[10, 12, 13, 15, 25, 20, 22]\n",
      "[10, 12, 13, 15, 22, 20, 25]\n",
      "[10, 12, 13, 15, 20, 22, 25]\n"
     ]
    }
   ],
   "source": [
    "def partition1(S, low, high):\n",
    "  pivot = S[low]\n",
    "  left, right = low + 1, high\n",
    "  while left < right:\n",
    "    print(S)\n",
    "    left += 1\n",
    "    while left <= right and S[left] <= pivot:\n",
    "      left += 1\n",
    "    while left <= right and S[right] >= pivot:\n",
    "        right -= 1\n",
    "    if left < right:\n",
    "      S[left], S[right] = S[right], S[left]\n",
    "  pivotpoint = right\n",
    "  S[low], S[pivotpoint] = S[pivotpoint], S[low]\n",
    "  return pivotpoint\n",
    "\n",
    "def quicksort1(S, low, high):\n",
    "  if low < high:\n",
    "    print(S)\n",
    "    pivotpoint = partition1(S, low, high)\n",
    "    quicksort1(S, low, pivotpoint - 1)\n",
    "    quicksort1(S, pivotpoint + 1, high)\n",
    "\n",
    "S = [15, 10, 12, 20, 25, 13, 22]\n",
    "quicksort1(S, 0, len(S) - 1)\n",
    "print(S)"
   ]
  },
  {
   "cell_type": "code",
   "execution_count": 11,
   "metadata": {},
   "outputs": [
    {
     "name": "stdout",
     "output_type": "stream",
     "text": [
      "[12, 22, 20, 15, 13, 25, 10] 0 6 pivot =  12\n"
     ]
    },
    {
     "ename": "KeyboardInterrupt",
     "evalue": "",
     "output_type": "error",
     "traceback": [
      "\u001b[1;31m---------------------------------------------------------------------------\u001b[0m",
      "\u001b[1;31mKeyboardInterrupt\u001b[0m                         Traceback (most recent call last)",
      "\u001b[1;32mc:\\Users\\User\\SIC python Samsung\\Aula 07 - 27 08\\Aula 07.ipynb Célula: 11\u001b[0m in \u001b[0;36m<cell line: 24>\u001b[1;34m()\u001b[0m\n\u001b[0;32m     <a href='vscode-notebook-cell:/c%3A/Users/User/SIC%20python%20Samsung/Aula%2007%20-%2027%2008/Aula%2007.ipynb#X13sZmlsZQ%3D%3D?line=20'>21</a>\u001b[0m     quicksort2(S, pivotpoint \u001b[39m+\u001b[39m \u001b[39m1\u001b[39m, high)\n\u001b[0;32m     <a href='vscode-notebook-cell:/c%3A/Users/User/SIC%20python%20Samsung/Aula%2007%20-%2027%2008/Aula%2007.ipynb#X13sZmlsZQ%3D%3D?line=22'>23</a>\u001b[0m S \u001b[39m=\u001b[39m [\u001b[39m25\u001b[39m, \u001b[39m22\u001b[39m, \u001b[39m20\u001b[39m, \u001b[39m15\u001b[39m, \u001b[39m13\u001b[39m, \u001b[39m12\u001b[39m, \u001b[39m10\u001b[39m]\n\u001b[1;32m---> <a href='vscode-notebook-cell:/c%3A/Users/User/SIC%20python%20Samsung/Aula%2007%20-%2027%2008/Aula%2007.ipynb#X13sZmlsZQ%3D%3D?line=23'>24</a>\u001b[0m quicksort2(S, \u001b[39m0\u001b[39;49m, \u001b[39mlen\u001b[39;49m(S) \u001b[39m-\u001b[39;49m \u001b[39m1\u001b[39;49m)\n\u001b[0;32m     <a href='vscode-notebook-cell:/c%3A/Users/User/SIC%20python%20Samsung/Aula%2007%20-%2027%2008/Aula%2007.ipynb#X13sZmlsZQ%3D%3D?line=24'>25</a>\u001b[0m \u001b[39mprint\u001b[39m(S)\n",
      "\u001b[1;32mc:\\Users\\User\\SIC python Samsung\\Aula 07 - 27 08\\Aula 07.ipynb Célula: 11\u001b[0m in \u001b[0;36mquicksort2\u001b[1;34m(S, low, high)\u001b[0m\n\u001b[0;32m     <a href='vscode-notebook-cell:/c%3A/Users/User/SIC%20python%20Samsung/Aula%2007%20-%2027%2008/Aula%2007.ipynb#X13sZmlsZQ%3D%3D?line=16'>17</a>\u001b[0m \u001b[39mdef\u001b[39;00m \u001b[39mquicksort2\u001b[39m(S, low, high):\n\u001b[0;32m     <a href='vscode-notebook-cell:/c%3A/Users/User/SIC%20python%20Samsung/Aula%2007%20-%2027%2008/Aula%2007.ipynb#X13sZmlsZQ%3D%3D?line=17'>18</a>\u001b[0m   \u001b[39mif\u001b[39;00m low \u001b[39m<\u001b[39m high:\n\u001b[1;32m---> <a href='vscode-notebook-cell:/c%3A/Users/User/SIC%20python%20Samsung/Aula%2007%20-%2027%2008/Aula%2007.ipynb#X13sZmlsZQ%3D%3D?line=18'>19</a>\u001b[0m     pivotpoint \u001b[39m=\u001b[39m partition2(S, low, high)\n\u001b[0;32m     <a href='vscode-notebook-cell:/c%3A/Users/User/SIC%20python%20Samsung/Aula%2007%20-%2027%2008/Aula%2007.ipynb#X13sZmlsZQ%3D%3D?line=19'>20</a>\u001b[0m     quicksort2(S, low, pivotpoint \u001b[39m-\u001b[39m \u001b[39m1\u001b[39m)\n\u001b[0;32m     <a href='vscode-notebook-cell:/c%3A/Users/User/SIC%20python%20Samsung/Aula%2007%20-%2027%2008/Aula%2007.ipynb#X13sZmlsZQ%3D%3D?line=20'>21</a>\u001b[0m     quicksort2(S, pivotpoint \u001b[39m+\u001b[39m \u001b[39m1\u001b[39m, high)\n",
      "\u001b[1;32mc:\\Users\\User\\SIC python Samsung\\Aula 07 - 27 08\\Aula 07.ipynb Célula: 11\u001b[0m in \u001b[0;36mpartition2\u001b[1;34m(S, low, high)\u001b[0m\n\u001b[0;32m      <a href='vscode-notebook-cell:/c%3A/Users/User/SIC%20python%20Samsung/Aula%2007%20-%2027%2008/Aula%2007.ipynb#X13sZmlsZQ%3D%3D?line=5'>6</a>\u001b[0m \u001b[39mprint\u001b[39m(S, left, right, \u001b[39m\"\u001b[39m\u001b[39mpivot = \u001b[39m\u001b[39m\"\u001b[39m, pivot)\n\u001b[0;32m      <a href='vscode-notebook-cell:/c%3A/Users/User/SIC%20python%20Samsung/Aula%2007%20-%2027%2008/Aula%2007.ipynb#X13sZmlsZQ%3D%3D?line=6'>7</a>\u001b[0m \u001b[39mwhile\u001b[39;00m left \u001b[39m<\u001b[39m right:\n\u001b[1;32m----> <a href='vscode-notebook-cell:/c%3A/Users/User/SIC%20python%20Samsung/Aula%2007%20-%2027%2008/Aula%2007.ipynb#X13sZmlsZQ%3D%3D?line=7'>8</a>\u001b[0m   \u001b[39mwhile\u001b[39;00m left \u001b[39m<\u001b[39m high \u001b[39mand\u001b[39;00m S[left] \u001b[39m<\u001b[39m\u001b[39m=\u001b[39m pivot:\n\u001b[0;32m      <a href='vscode-notebook-cell:/c%3A/Users/User/SIC%20python%20Samsung/Aula%2007%20-%2027%2008/Aula%2007.ipynb#X13sZmlsZQ%3D%3D?line=8'>9</a>\u001b[0m     left \u001b[39m+\u001b[39m\u001b[39m=\u001b[39m \u001b[39m1\u001b[39m\n\u001b[0;32m     <a href='vscode-notebook-cell:/c%3A/Users/User/SIC%20python%20Samsung/Aula%2007%20-%2027%2008/Aula%2007.ipynb#X13sZmlsZQ%3D%3D?line=9'>10</a>\u001b[0m   \u001b[39mwhile\u001b[39;00m right \u001b[39m>\u001b[39m low \u001b[39mand\u001b[39;00m pivot \u001b[39m<\u001b[39m\u001b[39m=\u001b[39m S[right]:\n",
      "\u001b[1;31mKeyboardInterrupt\u001b[0m: "
     ]
    }
   ],
   "source": [
    "from random import randint\n",
    "def partition2(S, low, high):\n",
    "  rand = randint(low, high)\n",
    "  S[low], S[rand] = S[rand], S[low]\n",
    "  pivot, left, right = S[low], low, high\n",
    "  print(S, left, right, \"pivot = \", pivot)\n",
    "  while left < right:\n",
    "    while left < high and S[left] <= pivot:\n",
    "      left += 1\n",
    "    while right > low and pivot <= S[right]:\n",
    "      right -=1\n",
    "  if left < right:\n",
    "    S[left], S[right] = S[right], \n",
    "    S[left],S[low], S[right] = S[right],S[low]\n",
    "  return right\n",
    "\n",
    "def quicksort2(S, low, high):\n",
    "  if low < high:\n",
    "    pivotpoint = partition2(S, low, high)\n",
    "    quicksort2(S, low, pivotpoint - 1)\n",
    "    quicksort2(S, pivotpoint + 1, high)\n",
    "    \n",
    "S = [25, 22, 20, 15, 13, 12, 10]\n",
    "quicksort2(S, 0, len(S) - 1)\n",
    "print(S)"
   ]
  }
 ],
 "metadata": {
  "kernelspec": {
   "display_name": "Python 3.9.12 ('base')",
   "language": "python",
   "name": "python3"
  },
  "language_info": {
   "codemirror_mode": {
    "name": "ipython",
    "version": 3
   },
   "file_extension": ".py",
   "mimetype": "text/x-python",
   "name": "python",
   "nbconvert_exporter": "python",
   "pygments_lexer": "ipython3",
   "version": "3.9.12"
  },
  "orig_nbformat": 4,
  "vscode": {
   "interpreter": {
    "hash": "f08154012ddadd8e950e6e9e035c7a7b32c136e7647e9b7c77e02eb723a8bedb"
   }
  }
 },
 "nbformat": 4,
 "nbformat_minor": 2
}
