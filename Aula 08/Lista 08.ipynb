{
 "cells": [
  {
   "cell_type": "code",
   "execution_count": 25,
   "metadata": {},
   "outputs": [
    {
     "ename": "ValueError",
     "evalue": "invalid literal for int() with base 10: 'Passos'",
     "output_type": "error",
     "traceback": [
      "\u001b[1;31m---------------------------------------------------------------------------\u001b[0m",
      "\u001b[1;31mValueError\u001b[0m                                Traceback (most recent call last)",
      "\u001b[1;32mc:\\Users\\User\\SIC python Samsung\\Aula 08\\Lista 08.ipynb Célula: 1\u001b[0m in \u001b[0;36m<cell line: 16>\u001b[1;34m()\u001b[0m\n\u001b[0;32m     <a href='vscode-notebook-cell:/c%3A/Users/User/SIC%20python%20Samsung/Aula%2008/Lista%2008.ipynb#W0sZmlsZQ%3D%3D?line=13'>14</a>\u001b[0m     \u001b[39mreturn\u001b[39;00m changes\n\u001b[0;32m     <a href='vscode-notebook-cell:/c%3A/Users/User/SIC%20python%20Samsung/Aula%2008/Lista%2008.ipynb#W0sZmlsZQ%3D%3D?line=14'>15</a>\u001b[0m coins \u001b[39m=\u001b[39m [\u001b[39m500\u001b[39m, \u001b[39m400\u001b[39m, \u001b[39m100\u001b[39m, \u001b[39m50\u001b[39m, \u001b[39m10\u001b[39m]\n\u001b[1;32m---> <a href='vscode-notebook-cell:/c%3A/Users/User/SIC%20python%20Samsung/Aula%2008/Lista%2008.ipynb#W0sZmlsZQ%3D%3D?line=15'>16</a>\u001b[0m amount \u001b[39m=\u001b[39m \u001b[39mint\u001b[39;49m(\u001b[39minput\u001b[39;49m(\u001b[39m\"\u001b[39;49m\u001b[39mInsira a quantidade: \u001b[39;49m\u001b[39m\"\u001b[39;49m))\n\u001b[0;32m     <a href='vscode-notebook-cell:/c%3A/Users/User/SIC%20python%20Samsung/Aula%2008/Lista%2008.ipynb#W0sZmlsZQ%3D%3D?line=16'>17</a>\u001b[0m changes \u001b[39m=\u001b[39m coin_change(coins, amount)\n\u001b[0;32m     <a href='vscode-notebook-cell:/c%3A/Users/User/SIC%20python%20Samsung/Aula%2008/Lista%2008.ipynb#W0sZmlsZQ%3D%3D?line=17'>18</a>\u001b[0m \u001b[39mprint\u001b[39m(changes, \u001b[39mlen\u001b[39m(changes))\n",
      "\u001b[1;31mValueError\u001b[0m: invalid literal for int() with base 10: 'Passos'"
     ]
    }
   ],
   "source": [
    "#Q 30-01\n",
    "'''Este é o problema da troca de moedas. Você tem uma moeda de 400 won. Escreva a saída de como o algoritmo coin_change() \n",
    "determina a mudança para a moeda de 800 won.'''\n",
    "\n",
    "def coin_change(coins, amount):\n",
    "    changes = []\n",
    "    largest = 0\n",
    "    while amount > 0:\n",
    "        if amount < coins[largest]:\n",
    "            largest += 1\n",
    "        else:\n",
    "            changes.append(coins[largest])\n",
    "            amount -= coins[largest]\n",
    "    return changes\n",
    "coins = [500, 400, 100, 50, 10]\n",
    "amount = int(input(\"Insira a quantidade: \"))\n",
    "changes = coin_change(coins, amount)\n",
    "print(changes, len(changes))\n",
    "\n",
    "# O retorno de troco para 800 seria: [500, 100, 100, 100] 4"
   ]
  },
  {
   "cell_type": "code",
   "execution_count": 41,
   "metadata": {},
   "outputs": [
    {
     "data": {
      "text/plain": [
       "3"
      ]
     },
     "execution_count": 41,
     "metadata": {},
     "output_type": "execute_result"
    }
   ],
   "source": [
    "a = [10,20,30,40]\n",
    "a.index(40)"
   ]
  },
  {
   "cell_type": "code",
   "execution_count": 2,
   "metadata": {},
   "outputs": [],
   "source": [
    "import tkinter as tk\n",
    "\n",
    "def calculate():\n",
    "    num1 = float(entry_1.get())\n",
    "    num2 = float(entry_2.get())\n",
    "    operation = variable.get()\n",
    "    if operation == \"+\":\n",
    "        result = num1 + num2\n",
    "    elif operation == \"-\":\n",
    "        result = num1 - num2\n",
    "    elif operation == \"*\":\n",
    "        result = num1 * num2\n",
    "    else:\n",
    "        result = num1 / num2\n",
    "    result_label.config(text=\"Result: \" + str(result))\n",
    "\n",
    "app = tk.Tk()\n",
    "app.title(\"Calculadora\")\n",
    "\n",
    "frame = tk.Frame(app)\n",
    "frame.pack()\n",
    "\n",
    "entry_1 = tk.Entry(frame)\n",
    "entry_1.pack(side=\"left\")\n",
    "\n",
    "variable = tk.StringVar(app)\n",
    "variable.set(\"+\")\n",
    "\n",
    "option = tk.OptionMenu(frame, variable, \"+\", \"-\", \"*\", \"/\")\n",
    "option.pack(side=\"left\")\n",
    "\n",
    "entry_2 = tk.Entry(frame)\n",
    "entry_2.pack(side=\"left\")\n",
    "\n",
    "calculate = tk.Button(frame, text=\"Calculate\", command=calculate)\n",
    "calculate.pack(side=\"left\")\n",
    "\n",
    "result_label = tk.Label(app, text=\"\")\n",
    "result_label.pack()\n",
    "\n",
    "app.mainloop()\n"
   ]
  }
 ],
 "metadata": {
  "kernelspec": {
   "display_name": "Python 3.9.12 ('base')",
   "language": "python",
   "name": "python3"
  },
  "language_info": {
   "codemirror_mode": {
    "name": "ipython",
    "version": 3
   },
   "file_extension": ".py",
   "mimetype": "text/x-python",
   "name": "python",
   "nbconvert_exporter": "python",
   "pygments_lexer": "ipython3",
   "version": "3.9.12"
  },
  "orig_nbformat": 4,
  "vscode": {
   "interpreter": {
    "hash": "f08154012ddadd8e950e6e9e035c7a7b32c136e7647e9b7c77e02eb723a8bedb"
   }
  }
 },
 "nbformat": 4,
 "nbformat_minor": 2
}
