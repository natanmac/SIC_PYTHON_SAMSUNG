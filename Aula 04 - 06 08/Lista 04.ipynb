{
 "cells": [
  {
   "cell_type": "code",
   "execution_count": 2,
   "metadata": {},
   "outputs": [
    {
     "name": "stdout",
     "output_type": "stream",
     "text": [
      "A matriz inicial é:  [[1, 2], [3, 4], [5, 6]]\n",
      "A matriz atualizada fica:  [1, 2, 3, 4, 5, 6]\n"
     ]
    }
   ],
   "source": [
    "'''Q13-01\n",
    "A matriz bidimensional a contém os valores [[1, 2], [3, 4], [5, 6]]. Mude esta matriz bidimensional para uma matriz unidimensional como [1, 2, 3, 4, 5, 6], e imprima-a.\n",
    "Dica: Use um for loop. Defina uma nova matriz e coloque os elementos de uma nessa matriz.'''\n",
    "\n",
    "matriz1 = [[1, 2], [3, 4], [5, 6]]\n",
    "matriz2 = []\n",
    "\n",
    "for i in matriz1:\n",
    "    for n in i:\n",
    "        matriz2.append(n)\n",
    "\n",
    "print(\"A matriz inicial é: \", matriz1)\n",
    "print(\"A matriz atualizada fica: \", matriz2)"
   ]
  },
  {
   "cell_type": "code",
   "execution_count": null,
   "metadata": {},
   "outputs": [],
   "source": [
    "'''Q14-01\n",
    "Há uma variável do dicionário maria como segue. Nesta variável de dicionário, cursos como 'coreano' e 'inglês' e suas pontuações são armazenados como key:value. Imprima a nota média de 89,25 para as notas de Maria.\n",
    "Dica: Use as funções de valores() e len() do dicionário \n",
    "\n",
    "\n",
    "maria = {'coreano': 94, 'ingles': 91, 'matematica': 89, 'ciencia': 83}'''\n",
    "\n",
    "maria = {'coreano': 94, 'ingles': 91, 'matematica': 89, 'ciencia': 83}\n",
    "notas = []\n",
    "qtdNotas = 0\n",
    "\n",
    "for i in maria.values():\n",
    "    notas.append(i)\n",
    "    qtdNotas += 1\n",
    "\n",
    "media = sum(notas)/qtdNotas\n",
    "\n",
    "print(\"A média da Maria é de: \", media)"
   ]
  },
  {
   "cell_type": "code",
   "execution_count": null,
   "metadata": {},
   "outputs": [],
   "source": [
    "'''Declarar um dicionário school, como a seguir:\n",
    "\n",
    "school = { 'kim': {'age': 16, 'hei': 170, 'grade': 3}, 'lee': {'age': 15, 'hei': 168, 'grade': 2}, 'choi': {'age': 14, 'hei': 173, 'grade': 1}}\n",
    "Em seguida, use a função deepcopy() do módulo de copy para escrever um programa que 'copie' para outra variável, school2.\n",
    "\n",
    "(Verifique se school e school2 são variáveis diferentes através do operador is).\n",
    "Dica: Imprimir para que o resultado da school seja school2 é falso.\n",
    "'''\n",
    "\n",
    "import copy\n",
    "\n",
    "school = { 'kim': {'age': 16, 'hei': 170, 'grade': 3}, 'lee': {'age': 15, 'hei': 168, 'grade': 2}, 'choi': {'age': 14, 'hei': 173, 'grade': 1}}\n",
    "school2 = copy.deepcopy(school)\n",
    "print(school2)\n",
    "\n",
    "# == se torna igual a is\n",
    "#school is school2\n",
    "\n",
    "print(school is school2)\n",
    "print(type(school2))"
   ]
  },
  {
   "cell_type": "code",
   "execution_count": null,
   "metadata": {},
   "outputs": [],
   "source": [
    "'''Há uma pontuação tupla como se segue. Esta tupla contém informações sobre quatro alunos. Nesta informação, o nome do aluno e as notas em inglês, matemática e ciências formam um tuple. Por exemplo, 'Davi' tem uma nota de 88 em inglês, 95 em matemática e 90 em ciências.\n",
    "\n",
    "notas = (('Davi',  88,  95, 90), ('Felipe', 83, 98, 81), ('Luciano', 81, 97, 98), ('Rodrigo', 82, 89, 83))\n",
    "Extrair somente as notas matemáticas, usando a função zip na tupla da nota. Escreva um código que calcula a média das pontuações de matemáticas extraídas.\n",
    "'''\n",
    "\n",
    "notas = (('Davi',  88,  95, 90), ('Felipe', 83, 98, 81), ('Luciano', 81, 97, 98), ('Rodrigo', 82, 89, 83))\n",
    "\n",
    "Davi = notas[0]\n",
    "Felipe = notas[1]\n",
    "Luciano = notas[2]\n",
    "Rodrigo = notas[3]\n",
    "\n",
    "x = list(zip(Davi, Felipe, Luciano, Rodrigo))\n",
    "\n",
    "media = sum(x[2])/4\n",
    "\n",
    "print(media)"
   ]
  }
 ],
 "metadata": {
  "kernelspec": {
   "display_name": "Python 3.9.12 ('base')",
   "language": "python",
   "name": "python3"
  },
  "language_info": {
   "codemirror_mode": {
    "name": "ipython",
    "version": 3
   },
   "file_extension": ".py",
   "mimetype": "text/x-python",
   "name": "python",
   "nbconvert_exporter": "python",
   "pygments_lexer": "ipython3",
   "version": "3.9.12"
  },
  "orig_nbformat": 4,
  "vscode": {
   "interpreter": {
    "hash": "f08154012ddadd8e950e6e9e035c7a7b32c136e7647e9b7c77e02eb723a8bedb"
   }
  }
 },
 "nbformat": 4,
 "nbformat_minor": 2
}
