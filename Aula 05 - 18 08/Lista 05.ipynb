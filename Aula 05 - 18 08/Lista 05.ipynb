{
 "cells": [
  {
   "cell_type": "code",
   "execution_count": 11,
   "metadata": {},
   "outputs": [
    {
     "name": "stdout",
     "output_type": "stream",
     "text": [
      "A distancia entre os dois pontos é:  7.0710678118654755\n"
     ]
    },
    {
     "data": {
      "text/plain": [
       "7.0710678118654755"
      ]
     },
     "execution_count": 11,
     "metadata": {},
     "output_type": "execute_result"
    }
   ],
   "source": [
    "''' Q 17-01\n",
    "Escreva um programa que recebe dois pontos no plano cartesiano, (x1, y1) e (x2, y2) e imprime a distância entre esses 2 pontos.\n",
    "'''\n",
    "import math\n",
    "while True:\n",
    "    try:\n",
    "        x1 = int(input(\"Insira o x1: \"))\n",
    "        y1 = int(input(\"Insira o y1: \"))\n",
    "        x2 = int(input(\"Insira o x2: \"))\n",
    "        y2 = int(input(\"Insira o y2: \"))\n",
    "        break\n",
    "    except ValueError:\n",
    "        print(\"Você colocou um valor inválido, tente novamente!\")\n",
    "\n",
    "def distDoisPontos ():\n",
    "    distAB = math.sqrt(((x2 - x1)**2) + ((y2 - y1)**2))\n",
    "    print(\"A distancia entre os dois pontos é: \", distAB)\n",
    "    return distAB\n",
    "\n",
    "distDoisPontos()\n"
   ]
  },
  {
   "cell_type": "code",
   "execution_count": 28,
   "metadata": {},
   "outputs": [
    {
     "name": "stdout",
     "output_type": "stream",
     "text": [
      "A palavra não é um palindromo!\n"
     ]
    }
   ],
   "source": [
    "''' Q 18-01\n",
    "Um palíndromo é uma frase ou palavra que se lê da mesma forma da esquerda pra direita e vice-e-versa. Por exemplo: radar.\n",
    "Escreva um programa que usa uma função recursiva para determinar se uma string é um palíndromo ou não.\n",
    "'''\n",
    "txt = str(input(\"Insira a palavra para análise: \"))\n",
    "\n",
    "def inverter():\n",
    "    reversed_string = ''.join(reversed(txt))\n",
    "\n",
    "    if(reversed_string == txt):\n",
    "        print(\"A palavra \", txt, \" é um palindromo!\")\n",
    "        print(txt, \" = \", reversed_string)\n",
    "    else:\n",
    "        print(\"A palavra não é um palindromo!\")\n",
    "\n",
    "inverter()\n"
   ]
  },
  {
   "cell_type": "code",
   "execution_count": 30,
   "metadata": {},
   "outputs": [
    {
     "name": "stdout",
     "output_type": "stream",
     "text": [
      "A lista multiplicada por 2 [20, 40, 60]\n",
      "A lista multiplicada por 3 [30, 60, 90]\n"
     ]
    }
   ],
   "source": [
    "''' Q 19-01\n",
    "Escreva um programa que usa a função map() para realizar operações de multiplicação com os itens da lista n_list = [10, 20, 30]. \n",
    "O programa deve imprimir 2x e 3x os valores de n_list.\n",
    "'''\n",
    "n_list = [10, 20, 30]\n",
    "\n",
    "def doisX (x):\n",
    "    return x * 2\n",
    "\n",
    "def tresX (y):\n",
    "    return y * 3\n",
    "\n",
    "def multList2():\n",
    "    doisVezes = list(map(doisX, n_list))\n",
    "    print(\"A lista multiplicada por 2:\", doisVezes)\n",
    "\n",
    "def multList3():\n",
    "    tresVezes = list(map(tresX, n_list))\n",
    "    print(\"A lista multiplicada por 3:\", tresVezes)\n",
    "\n",
    "multList2()\n",
    "multList3()"
   ]
  },
  {
   "cell_type": "code",
   "execution_count": 32,
   "metadata": {},
   "outputs": [
    {
     "name": "stdout",
     "output_type": "stream",
     "text": [
      "1\n",
      "4\n",
      "27\n",
      "256\n",
      "3125\n"
     ]
    }
   ],
   "source": [
    "''' Q 20-01\n",
    "Considere o código a seguir:\n",
    "\n",
    "def calc_digit(n):\n",
    "    def final(digit):\n",
    "        return digit**n\n",
    "    return final\n",
    "num_list = []\n",
    "for num in range(1, 6):\n",
    "    num_list.append(calc_digit(num))\n",
    "    prtin(num_list[num - 1](num))\n",
    "\n",
    "1\n",
    "4\n",
    "27\n",
    "256\n",
    "3125\n",
    "Calcule o resultado do código manualmente.\n",
    "'''\n",
    "def calc_digit(n):\n",
    "    def final(digit):\n",
    "        return digit**n\n",
    "    return final\n",
    "num_list = []\n",
    "for num in range(1, 6):\n",
    "    num_list.append(calc_digit(num))\n",
    "    print(num_list[num - 1](num))\n",
    "\n",
    "#Saída:\n",
    "# 1\n",
    "# 4\n",
    "# 27\n",
    "# 256\n",
    "# 3125"
   ]
  },
  {
   "cell_type": "code",
   "execution_count": 31,
   "metadata": {},
   "outputs": [
    {
     "name": "stdout",
     "output_type": "stream",
     "text": [
      "[3.0, 2.0]\n",
      "[300, 800]\n"
     ]
    }
   ],
   "source": [
    "''' Q 21-01\n",
    "Escreva um programa que faz multiplicação (*) e divisão (/) usando os métodos __mul__ e __truediv__ \n",
    "aprendidos na unidade 21. Assumindo que v1 = (30, 40) e v2 = (10, 20),\n",
    "codifique (escreva a declaração de saída) para retornar a saída abaixo como \n",
    "resultado da multiplicação e divisão de dois vetores.\n",
    "\n",
    "v1 * v2 = (300, 800)\n",
    "v1 / v2 = (3.0, 2.0)\n",
    "'''\n",
    "v1 = (30, 40)\n",
    "v2 = (10, 20)\n",
    "listdiv = []\n",
    "listmult = []\n",
    "\n",
    "a = (v1[0]).__truediv__(v2[0])\n",
    "b = (v1[1]).__truediv__(v2[1])\n",
    "listdiv.append(a)\n",
    "listdiv.append(b)\n",
    "\n",
    "c = (v1[0]).__mul__(v2[0])\n",
    "d = (v1[1]).__mul__(v2[1])\n",
    "listmult.append(c)\n",
    "listmult.append(d)\n",
    "\n",
    "print(listdiv)\n",
    "print(listmult)"
   ]
  },
  {
   "cell_type": "code",
   "execution_count": 2,
   "metadata": {},
   "outputs": [
    {
     "name": "stdout",
     "output_type": "stream",
     "text": [
      "   points  total\n",
      "0    10.0   35.0\n",
      "1    12.0   34.0\n",
      "2    11.4   40.2\n"
     ]
    }
   ],
   "source": [
    "import pandas as pd\n",
    "\n",
    "data = {\n",
    "  \"points\": [100, 120, 114],\n",
    "  \"total\": [350, 340, 402]\n",
    "}\n",
    "\n",
    "df = pd.DataFrame(data)\n",
    "\n",
    "print(df.truediv(10))"
   ]
  }
 ],
 "metadata": {
  "kernelspec": {
   "display_name": "Python 3.9.12 ('base')",
   "language": "python",
   "name": "python3"
  },
  "language_info": {
   "codemirror_mode": {
    "name": "ipython",
    "version": 3
   },
   "file_extension": ".py",
   "mimetype": "text/x-python",
   "name": "python",
   "nbconvert_exporter": "python",
   "pygments_lexer": "ipython3",
   "version": "3.9.12"
  },
  "orig_nbformat": 4,
  "vscode": {
   "interpreter": {
    "hash": "f08154012ddadd8e950e6e9e035c7a7b32c136e7647e9b7c77e02eb723a8bedb"
   }
  }
 },
 "nbformat": 4,
 "nbformat_minor": 2
}
