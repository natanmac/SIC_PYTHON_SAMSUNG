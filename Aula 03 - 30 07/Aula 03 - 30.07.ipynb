{
 "cells": [
  {
   "cell_type": "code",
   "execution_count": 10,
   "metadata": {},
   "outputs": [
    {
     "name": "stdout",
     "output_type": "stream",
     "text": [
      "Eu amo Panqueca\n",
      "Eu amo Suco de laranja\n",
      "Eu amo Café\n",
      "Eu gosto de Panqueca\n",
      "Eu gosto de Suco de laranja\n",
      "Eu gosto de Café\n",
      "<class 'tuple'>\n"
     ]
    }
   ],
   "source": [
    "#Q10-01\n",
    "\n",
    "s1 = \"Eu amo\", \"Eu gosto de\"\n",
    "s2 = \"Panqueca\", \"Suco de laranja\", \"Café\"\n",
    "\n",
    "for i in s1:\n",
    "    for n in s2:\n",
    "        print(i + \" \" + n)\n",
    "\n"
   ]
  },
  {
   "cell_type": "code",
   "execution_count": 11,
   "metadata": {},
   "outputs": [
    {
     "name": "stdout",
     "output_type": "stream",
     "text": [
      "{'Name': 'Davi', 'Age': 26, 'Weight': 82, 'Job': 'Cientista de dados'}\n",
      "{'Name': 'Davi', 'Age': 26, 'Weight': 82, 'Job': 'Cientista de dados', 'Pai': 'Antônio'}\n"
     ]
    }
   ],
   "source": [
    "#Q11 - 01\n",
    "\n",
    "person = {'Name': 'Davi', 'Age': 26, 'Weight': 82, 'Job': 'Cientista de dados'}\n",
    "\n",
    "print(person)\n",
    "\n",
    "person['Pai'] = 'Antônio'\n",
    "print(person)"
   ]
  },
  {
   "cell_type": "code",
   "execution_count": 13,
   "metadata": {},
   "outputs": [
    {
     "name": "stdout",
     "output_type": "stream",
     "text": [
      "[5, 6, 3, 9, 2, 12, 3, 8, 7]\n",
      "[2, 3, 3, 5, 6, 7, 8, 9, 12]\n"
     ]
    }
   ],
   "source": [
    "lista = [5, 6, 3, 9, 2, 12, 3, 8, 7]\n",
    "print(lista)\n",
    "\n",
    "lista.sort()\n",
    "print(lista)"
   ]
  }
 ],
 "metadata": {
  "kernelspec": {
   "display_name": "Python 3.9.12 ('base')",
   "language": "python",
   "name": "python3"
  },
  "language_info": {
   "codemirror_mode": {
    "name": "ipython",
    "version": 3
   },
   "file_extension": ".py",
   "mimetype": "text/x-python",
   "name": "python",
   "nbconvert_exporter": "python",
   "pygments_lexer": "ipython3",
   "version": "3.9.12"
  },
  "orig_nbformat": 4,
  "vscode": {
   "interpreter": {
    "hash": "f08154012ddadd8e950e6e9e035c7a7b32c136e7647e9b7c77e02eb723a8bedb"
   }
  }
 },
 "nbformat": 4,
 "nbformat_minor": 2
}
