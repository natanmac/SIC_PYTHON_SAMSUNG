{
 "cells": [
  {
   "cell_type": "code",
   "execution_count": 1,
   "id": "502bbc41",
   "metadata": {},
   "outputs": [],
   "source": [
    "#Isso é um comentário"
   ]
  },
  {
   "cell_type": "code",
   "execution_count": 1,
   "id": "6250a6ae",
   "metadata": {},
   "outputs": [
    {
     "name": "stdout",
     "output_type": "stream",
     "text": [
      "Olá Edson!\n"
     ]
    }
   ],
   "source": [
    "#Primeiro comando em Python\n",
    "print(\"Olá Edson!\")"
   ]
  },
  {
   "cell_type": "code",
   "execution_count": 3,
   "id": "a4b079c4",
   "metadata": {},
   "outputs": [
    {
     "name": "stdout",
     "output_type": "stream",
     "text": [
      "10\n",
      "7.5\n"
     ]
    }
   ],
   "source": [
    "print(10)\n",
    "print(7.5)"
   ]
  },
  {
   "cell_type": "code",
   "execution_count": 4,
   "id": "249e0046",
   "metadata": {},
   "outputs": [
    {
     "name": "stdout",
     "output_type": "stream",
     "text": [
      "15\n",
      "14.5\n"
     ]
    }
   ],
   "source": [
    "print(10+5)\n",
    "print(7.5+7)"
   ]
  },
  {
   "cell_type": "code",
   "execution_count": 2,
   "id": "4c8be84a",
   "metadata": {},
   "outputs": [
    {
     "name": "stdout",
     "output_type": "stream",
     "text": [
      "Olá\n",
      "Edson\n"
     ]
    }
   ],
   "source": [
    "print(\"Olá\")\n",
    "print(\"Edson\")"
   ]
  },
  {
   "cell_type": "code",
   "execution_count": 6,
   "id": "4772f601",
   "metadata": {},
   "outputs": [
    {
     "name": "stdout",
     "output_type": "stream",
     "text": [
      "Olá\n",
      "Edson\n"
     ]
    }
   ],
   "source": [
    "print(\"Olá\")\n",
    "print(\"Edson\")"
   ]
  },
  {
   "cell_type": "code",
   "execution_count": 7,
   "id": "d85488c9",
   "metadata": {},
   "outputs": [
    {
     "name": "stdout",
     "output_type": "stream",
     "text": [
      "Olá /n Edson\n"
     ]
    }
   ],
   "source": [
    "print(\"Olá /n Edson\")"
   ]
  },
  {
   "cell_type": "code",
   "execution_count": 8,
   "id": "7dc14695",
   "metadata": {},
   "outputs": [
    {
     "name": "stdout",
     "output_type": "stream",
     "text": [
      "Olá \n",
      " Edson\n"
     ]
    }
   ],
   "source": [
    "print(\"Olá \\n Edson\")"
   ]
  },
  {
   "cell_type": "code",
   "execution_count": 9,
   "id": "afecfd2a",
   "metadata": {},
   "outputs": [
    {
     "name": "stdout",
     "output_type": "stream",
     "text": [
      "GilbertoGilbertoGilberto\n"
     ]
    }
   ],
   "source": [
    "print(\"Gilberto\" * 3)"
   ]
  },
  {
   "cell_type": "code",
   "execution_count": 10,
   "id": "15ce737d",
   "metadata": {},
   "outputs": [
    {
     "name": "stdout",
     "output_type": "stream",
     "text": [
      "Bancon é vida!\n"
     ]
    }
   ],
   "source": [
    "print(\"Bancon\", end = '')\n",
    "print(\" é vida!\")"
   ]
  },
  {
   "cell_type": "code",
   "execution_count": 11,
   "id": "fd523980",
   "metadata": {},
   "outputs": [
    {
     "name": "stdout",
     "output_type": "stream",
     "text": [
      "Olá deixa eu me apresentar: \n",
      "Nome: Natan Macedo\n",
      "Idade: 22\n",
      "Função atual: Estágiario \n",
      "Endereço: Campinas/SP\n",
      "Natural: Passos/MG\n"
     ]
    }
   ],
   "source": [
    "print(\"Olá deixa eu me apresentar: \")\n",
    "print(\"Nome: Natan Macedo\")\n",
    "print(\"Idade: 22\")\n",
    "print(\"Função atual: Estágiario \\nEndereço: Campinas/SP\")\n",
    "print(\"Natural: Passos/MG\")"
   ]
  },
  {
   "cell_type": "code",
   "execution_count": 12,
   "id": "d904da1e",
   "metadata": {},
   "outputs": [
    {
     "name": "stdout",
     "output_type": "stream",
     "text": [
      "*************************************************\n",
      "Olá deixa eu me apresentar: \n",
      "Nome: Natan Macedo\n",
      "Idade: 22\n",
      "Função atual: Estágiario \n",
      "Endereço: Campinas/SP\n",
      "Natural: Passos/MG\n",
      "*************************************************\n"
     ]
    }
   ],
   "source": [
    "print(\"*************************************************\")\n",
    "print(\"Olá deixa eu me apresentar: \")\n",
    "print(\"Nome: Natan Macedo\")\n",
    "print(\"Idade: 22\")\n",
    "print(\"Função atual: Estágiario \\nEndereço: Campinas/SP\")\n",
    "print(\"Natural: Passos/MG\")\n",
    "print(\"*************************************************\")"
   ]
  },
  {
   "cell_type": "code",
   "execution_count": 13,
   "id": "6a602c13",
   "metadata": {},
   "outputs": [
    {
     "name": "stdout",
     "output_type": "stream",
     "text": [
      "*************************************************\n",
      "Olá deixa eu me apresentar: \n",
      "Nome: Natan Macedo \n",
      "Idade: 22 \n",
      "Função atual: Estágiario \n",
      "Endereço: Campinas/SP \n",
      "Natural: Passos/MG\n",
      "*************************************************\n"
     ]
    }
   ],
   "source": [
    "print(\"*************************************************\")\n",
    "print(\"Olá deixa eu me apresentar: \\nNome: Natan Macedo \\nIdade: 22 \\nFunção atual: Estágiario \\nEndereço: Campinas/SP \\nNatural: Passos/MG\")\n",
    "print(\"*************************************************\")"
   ]
  },
  {
   "cell_type": "code",
   "execution_count": 14,
   "id": "97ccb103",
   "metadata": {},
   "outputs": [
    {
     "ename": "SyntaxError",
     "evalue": "invalid syntax (2771529254.py, line 1)",
     "output_type": "error",
     "traceback": [
      "\u001b[1;36m  Input \u001b[1;32mIn [14]\u001b[1;36m\u001b[0m\n\u001b[1;33m    a=10 , a+=10, print(a)\u001b[0m\n\u001b[1;37m            ^\u001b[0m\n\u001b[1;31mSyntaxError\u001b[0m\u001b[1;31m:\u001b[0m invalid syntax\n"
     ]
    }
   ],
   "source": [
    "a=10 , a+=10, print(a)"
   ]
  },
  {
   "cell_type": "code",
   "execution_count": 15,
   "id": "3a1d37ba",
   "metadata": {},
   "outputs": [
    {
     "name": "stdout",
     "output_type": "stream",
     "text": [
      "20\n"
     ]
    }
   ],
   "source": [
    "a=10\n",
    "a+=10\n",
    "print(a)"
   ]
  },
  {
   "cell_type": "code",
   "execution_count": 16,
   "id": "fd9c9d53",
   "metadata": {},
   "outputs": [
    {
     "data": {
      "text/plain": [
       "int"
      ]
     },
     "execution_count": 16,
     "metadata": {},
     "output_type": "execute_result"
    }
   ],
   "source": [
    "type(100)"
   ]
  },
  {
   "cell_type": "code",
   "execution_count": 17,
   "id": "e1c8e0d3",
   "metadata": {},
   "outputs": [
    {
     "data": {
      "text/plain": [
       "str"
      ]
     },
     "execution_count": 17,
     "metadata": {},
     "output_type": "execute_result"
    }
   ],
   "source": [
    "type(\"Teste\")"
   ]
  },
  {
   "cell_type": "code",
   "execution_count": 18,
   "id": "f460ae75",
   "metadata": {},
   "outputs": [
    {
     "data": {
      "text/plain": [
       "float"
      ]
     },
     "execution_count": 18,
     "metadata": {},
     "output_type": "execute_result"
    }
   ],
   "source": [
    "type(3.45)"
   ]
  },
  {
   "cell_type": "code",
   "execution_count": 24,
   "id": "8d8d422d",
   "metadata": {},
   "outputs": [
    {
     "name": "stdout",
     "output_type": "stream",
     "text": [
      "Insira o valor de A: 5\n",
      "Insira o valor de B: 5\n",
      "55\n",
      "Insira o valor de A: 5\n",
      "Insira o valor de B: 5\n",
      "10\n"
     ]
    }
   ],
   "source": [
    "#Primeiro exercício - Colocando tipo no input\n",
    "\n",
    "#Primeiro caso (Sem int)\n",
    "a = input(\"Insira o valor de A: \")\n",
    "b = input(\"Insira o valor de B: \")\n",
    "soma = (a + b)\n",
    "print(soma)\n",
    "\n",
    "#Segundo caso (Com int)\n",
    "a = int(input(\"Insira o valor de A: \"))\n",
    "b = int(input(\"Insira o valor de B: \"))\n",
    "soma = (a + b)\n",
    "print(soma)"
   ]
  },
  {
   "cell_type": "code",
   "execution_count": 26,
   "id": "c606a05c",
   "metadata": {},
   "outputs": [
    {
     "name": "stdout",
     "output_type": "stream",
     "text": [
      "Cálculo da área do triângulo: \n",
      "Entre com o valor da base: 5\n",
      "Entre com o valor da altura: 10\n",
      "\n",
      "A área do triângulo é:  25.0 m²\n"
     ]
    }
   ],
   "source": [
    "#Calcule a área do tringulo usando input\n",
    "\n",
    "print(\"Cálculo da área do triângulo: \")\n",
    "\n",
    "b = int(input(\"Entre com o valor da base: \"))#Valor da base\n",
    "h = int(input(\"Entre com o valor da altura: \"))#Valor da altura\n",
    "\n",
    "area = ((b * h)/2)\n",
    "\n",
    "print(\"\")\n",
    "print(\"A área do triângulo é: \", area, \"m²\")"
   ]
  },
  {
   "cell_type": "code",
   "execution_count": 1,
   "id": "67da1ad1",
   "metadata": {},
   "outputs": [
    {
     "name": "stdout",
     "output_type": "stream",
     "text": [
      "\n",
      "Sua raízes x1 e x2 são:  -4.0  e  4.0\n"
     ]
    }
   ],
   "source": [
    "#Exercício 2 - Código para achar raízes de uma equação do segundo grau\n",
    "\n",
    "import math\n",
    "\n",
    "a = int(input(\"Digite o x1: \"))\n",
    "b = int(input(\"Digite o x2: \"))\n",
    "c = int(input(\"Digite o x3: \"))\n",
    "\n",
    "delta = int(((b**2)-(4*a*c)))\n",
    "\n",
    "x1 = (b*(-1)) + (delta**0.5)/(2*a)\n",
    "x2 = (b) - (delta**0.5)/(2*a)\n",
    "\n",
    "print(\"\\nSua raízes x1 e x2 são: \", x1, \" e \", x2)"
   ]
  },
  {
   "cell_type": "code",
   "execution_count": null,
   "id": "ed9b7bed",
   "metadata": {},
   "outputs": [],
   "source": []
  }
 ],
 "metadata": {
  "kernelspec": {
   "display_name": "Python 3.9.12 ('base')",
   "language": "python",
   "name": "python3"
  },
  "language_info": {
   "codemirror_mode": {
    "name": "ipython",
    "version": 3
   },
   "file_extension": ".py",
   "mimetype": "text/x-python",
   "name": "python",
   "nbconvert_exporter": "python",
   "pygments_lexer": "ipython3",
   "version": "3.9.12"
  },
  "vscode": {
   "interpreter": {
    "hash": "f08154012ddadd8e950e6e9e035c7a7b32c136e7647e9b7c77e02eb723a8bedb"
   }
  }
 },
 "nbformat": 4,
 "nbformat_minor": 5
}
