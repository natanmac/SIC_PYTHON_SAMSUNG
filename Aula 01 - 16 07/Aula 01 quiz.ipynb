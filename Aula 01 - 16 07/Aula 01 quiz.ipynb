{
 "cells": [
  {
   "cell_type": "code",
   "execution_count": 6,
   "metadata": {},
   "outputs": [
    {
     "name": "stdout",
     "output_type": "stream",
     "text": [
      "2500\n"
     ]
    }
   ],
   "source": [
    "#Escreva um programa que imprima a soma dos números ÍMPARES de 1 a 100. A lógica do programa é \n",
    "# representada pelo diagrama de fluxo abaixo.\n",
    "\n",
    "#EX 02\n",
    "\n",
    "n = 1\n",
    "s = 0\n",
    "\n",
    "while n < 100:\n",
    "    s = s + n\n",
    "    n = (n+2)\n",
    "\n",
    "print(s)\n"
   ]
  },
  {
   "cell_type": "code",
   "execution_count": 7,
   "metadata": {},
   "outputs": [
    {
     "name": "stdout",
     "output_type": "stream",
     "text": [
      "O número digitado é par!\n"
     ]
    }
   ],
   "source": [
    "#Escreva um programa que recebe um número inteiro positivo do usuário e diz se é um número par ou ímpar. \n",
    "# Use o pseudo-código para se guiar:\n",
    "\n",
    "#EX 03\n",
    "\n",
    "num = int(input(\"Insira um número inteiro: \"))\n",
    "\n",
    "resto = num % 2\n",
    "\n",
    "if(resto == 0):\n",
    "    print(\"O número digitado é par!\")\n",
    "else:\n",
    "    print(\"O número digitado é ímpar!\")\n"
   ]
  },
  {
   "cell_type": "code",
   "execution_count": 8,
   "metadata": {},
   "outputs": [
    {
     "name": "stdout",
     "output_type": "stream",
     "text": [
      "**********\n",
      "##########\n"
     ]
    }
   ],
   "source": [
    "#O exercício a seguir será um exercício para decoração do seu programa.\n",
    "#Escreva um código que imprima uma sequencia de caracteres '*' na primeira linha e '#' na segunda linha. \n",
    "#Use o operador *(multiplicação) para criar o padrão de decoração\n",
    "\n",
    "#O resultado deve ser algo dessa forma:\n",
    "\n",
    "#************\n",
    "###########\n",
    "\n",
    "#EX 04\n",
    "\n",
    "a = \"*\"\n",
    "b = \"#\"\n",
    "\n",
    "print(10 * a)\n",
    "print(10 * b)"
   ]
  },
  {
   "cell_type": "code",
   "execution_count": 45,
   "metadata": {},
   "outputs": [
    {
     "name": "stdout",
     "output_type": "stream",
     "text": [
      "Seu nome é:  Natan  \n",
      "Seu endereço é:  Valinhos\n"
     ]
    }
   ],
   "source": [
    "#Escreva um programa que recebe 2 entradas do usuário: nome e endereço, depois imprima essas variáveis na tela.\n",
    "\n",
    "#EX 05\n",
    "\n",
    "nome = input(\"Escreva seu nome: \")\n",
    "endereco = input(\"Escreva seu endereço: \")\n",
    "\n",
    "print(\"Seu nome é: \", nome, \"\\nSeu endereço é: \", endereco)"
   ]
  },
  {
   "cell_type": "code",
   "execution_count": 12,
   "metadata": {},
   "outputs": [
    {
     "name": "stdout",
     "output_type": "stream",
     "text": [
      "0\n",
      "1\n",
      "False\n",
      "True\n"
     ]
    }
   ],
   "source": [
    "#Usando os operadores lógicos \"and\", \"or\" e \"not\" escreva um programa que, dado x = 1 e y = 0, \n",
    "# imprima os seguintes resultados: \n",
    "#0\n",
    "#1\n",
    "#False\n",
    "#True \n",
    "\n",
    "#EX Q05 - 01\n",
    "\n",
    "x = 1\n",
    "y = 0\n",
    "\n",
    "print(y)\n",
    "print(x)\n",
    "print((x or y) > 2)\n",
    "print((x and y) >= 0)"
   ]
  },
  {
   "cell_type": "code",
   "execution_count": 1,
   "metadata": {},
   "outputs": [
    {
     "name": "stdout",
     "output_type": "stream",
     "text": [
      "Os números inseridos em ordem crescente são:  15  e  22\n"
     ]
    }
   ],
   "source": [
    "#Escreva um programa que leia 2 entradas do usuário e as imprima do menor para o maior.\n",
    "\n",
    "'''(Restrição: dois números inteiros não são o mesmo número)\n",
    "\n",
    "Exemplo:\n",
    "\n",
    "\n",
    "Insira dois números inteiros: 14 10\n",
    "Os números inseridos em ordem crescente são: 10 14''' \n",
    "\n",
    "#EX 07\n",
    "\n",
    "num1 = input(\"Insira o primeiro número: \")\n",
    "num2 = input(\"Insira o segundo número: \")\n",
    "\n",
    "if(num1<num2):\n",
    "    print(\"Os números inseridos em ordem crescente são: \", num1, \" e \", num2)\n",
    "else:\n",
    "    print(\"Os números inseridos em ordem crescente são: \", num2, \" e \", num1)"
   ]
  },
  {
   "cell_type": "code",
   "execution_count": 51,
   "metadata": {},
   "outputs": [
    {
     "name": "stdout",
     "output_type": "stream",
     "text": [
      "Você é maior de idade e é casado!\n"
     ]
    }
   ],
   "source": [
    "'''Escreva um programa onde o usuário deve responder duas perguntas, \n",
    "se é maior de idade e se é casado, depois imprima o resultado.\n",
    "\n",
    "Exemplo:\n",
    "\n",
    "\n",
    "Você é maior de idade? (digite 1 se sim, 0 se não): 1\n",
    "Você é casado(a)? (digite 1 se sim, 0 se não): 0\n",
    "Você é maior de idade e solteiro.\n",
    "'''\n",
    "\n",
    "#EX 08\n",
    "mIdade = ''\n",
    "eCasado = ''\n",
    "\n",
    "while mIdade != 0 and mIdade != 1:\n",
    "    mIdade = int(input(\"Você é maior de idade? (digite 1 se sim, 0 se não)\"))\n",
    "\n",
    "while eCasado != 0 and eCasado != 1:\n",
    "    eCasado = int(input(\"Você é casado? (digite 1 se sim, 0 se não)\"))\n",
    "\n",
    "if((mIdade == 0) and (eCasado == 0)):\n",
    "    print(\"Você é menor de idade e não é casado!\")\n",
    "elif((mIdade == 1) and (eCasado == 0)):\n",
    "    print(\"Você é maior de idade e não é casado!\")\n",
    "elif((mIdade == 1) and (eCasado == 1)):\n",
    "    print(\"Você é maior de idade e é casado!\")\n",
    "else:\n",
    "    print(\"Você é menor de idade e casado!\") #Estranho"
   ]
  },
  {
   "cell_type": "code",
   "execution_count": 18,
   "metadata": {},
   "outputs": [
    {
     "name": "stdout",
     "output_type": "stream",
     "text": [
      "2\n",
      "3\n",
      "4\n",
      "5\n",
      "6\n",
      "7\n",
      "8\n",
      "9\n",
      "10\n",
      "11\n",
      "12\n"
     ]
    }
   ],
   "source": [
    "'''Entre os números naturais positivos diferentes de 1, um número que não é primo é chamado de número composto. \n",
    "Imprima os números primos e compostos de 2 a 12.\n",
    "\n",
    "Uma expressão deve determinar se o número é primo ou composto, caso seja composto, deve ser impresso na tela.'''\n",
    "\n",
    "#EX 09\n",
    "\n",
    "x = 2\n",
    "\n",
    "while x <= 12:\n",
    "    print(x)\n",
    "    x = x + 1\n"
   ]
  },
  {
   "cell_type": "code",
   "execution_count": 3,
   "metadata": {},
   "outputs": [
    {
     "name": "stdout",
     "output_type": "stream",
     "text": [
      "1\n",
      "2\n",
      "3\n",
      "4\n",
      "5\n"
     ]
    }
   ],
   "source": [
    "'''O código que imprime os valores numéricos de 1 a 3 usando a função print() é o mesmo que print(1+2+3). \n",
    "Com referência a este código, imprima os valores de 1 a 5 da seguinte forma.'''\n",
    "\n",
    "#EX 01 - Imprimir os números de 01 a 05\n",
    "\n",
    "'''print(1+2+3)\n",
    "print(1+2+3+4+5)'''\n",
    "\n",
    "x = 0\n",
    "\n",
    "while x < 5:\n",
    "    x = x + 1\n",
    "    print(x)\n"
   ]
  },
  {
   "cell_type": "code",
   "execution_count": 1,
   "metadata": {},
   "outputs": [
    {
     "name": "stdout",
     "output_type": "stream",
     "text": [
      "Os números de Armstrog são:  [153, 370, 371, 407]\n"
     ]
    }
   ],
   "source": [
    "'''Um número Armstrong é um número inteiro de três dígitos que é igual à soma dos cubos de cada dígito. \n",
    "Encontre todos os números Armstrong entre números inteiros de três dígitos e imprima-os.\n",
    "\n",
    "Exemplo: \n",
    "\n",
    "153 é um número Armstrong, pois 1³+5³+3³ = 1+125+27 = 153'''\n",
    "\n",
    "#EX 10\n",
    "\n",
    "num = 100\n",
    "j = 0\n",
    "fim = []\n",
    "\n",
    "while num < 1000:\n",
    "    x = [int(a) for a in str(num)] #Separa os números e cria um array com eles\n",
    "\n",
    "    for i in x:\n",
    "        i = i**3\n",
    "        j = j + i\n",
    "    \n",
    "    if (j == num):\n",
    "            fim.append(j)\n",
    "    \n",
    "    num = num + 1\n",
    "    x.clear()\n",
    "    j = 0\n",
    "\n",
    "print(\"Os números de Armstrog são: \", fim)\n"
   ]
  }
 ],
 "metadata": {
  "kernelspec": {
   "display_name": "Python 3.9.12 ('base')",
   "language": "python",
   "name": "python3"
  },
  "language_info": {
   "codemirror_mode": {
    "name": "ipython",
    "version": 3
   },
   "file_extension": ".py",
   "mimetype": "text/x-python",
   "name": "python",
   "nbconvert_exporter": "python",
   "pygments_lexer": "ipython3",
   "version": "3.9.12"
  },
  "orig_nbformat": 4,
  "vscode": {
   "interpreter": {
    "hash": "f08154012ddadd8e950e6e9e035c7a7b32c136e7647e9b7c77e02eb723a8bedb"
   }
  }
 },
 "nbformat": 4,
 "nbformat_minor": 2
}
