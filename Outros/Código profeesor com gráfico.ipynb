{
 "cells": [
  {
   "cell_type": "code",
   "execution_count": 1,
   "metadata": {},
   "outputs": [
    {
     "name": "stdout",
     "output_type": "stream",
     "text": [
      "********************************************************************************\n",
      "Quais suas notas do primeiro bimestre, Natan\n",
      "________________________________________________________________________________\n",
      "Quais suas notas do segundo bimestre, Natan\n",
      "________________________________________________________________________________\n",
      "Quais suas notas do terceiro bimestre, Natan\n",
      "________________________________________________________________________________\n",
      "Quais suas notas do quarto bimestre, Natan\n",
      "********************************************************************************\n",
      "\n",
      "    +++++++++++++ Seu desempenho ++++++++++++++\n",
      "\n"
     ]
    },
    {
     "data": {
      "image/png": "[encoded data removed]",
      "text/plain": [
       "<Figure size 432x288 with 1 Axes>"
      ]
     },
     "metadata": {
      "needs_background": "light"
     },
     "output_type": "display_data"
    },
    {
     "name": "stdout",
     "output_type": "stream",
     "text": [
      "\n",
      "Parabéns, Natan , você foi aprovado!\n",
      "\n",
      "  -------------------------------\n",
      "|                                 |\n",
      "| Média final igual a :  17.58    |\n",
      "|                                 |\n",
      "  -------------------------------\n",
      "\n",
      "\n",
      "Mensagem motivacional:\n",
      "\n",
      "\n",
      " \n",
      "Nada é tão ruim que não possa piorar \n",
      "  Nada é tão ruim que não possa piorar\n",
      "    Nada é tão ruim que"
     ]
    },
    {
     "ename": "KeyboardInterrupt",
     "evalue": "",
     "output_type": "error",
     "traceback": [
      "\u001b[1;31m---------------------------------------------------------------------------\u001b[0m",
      "\u001b[1;31mKeyboardInterrupt\u001b[0m                         Traceback (most recent call last)",
      "\u001b[1;32mc:\\Users\\User\\SIC python Samsung\\Código profeesor com gráfico.ipynb Célula: 1\u001b[0m in \u001b[0;36m<cell line: 104>\u001b[1;34m()\u001b[0m\n\u001b[0;32m    <a href='vscode-notebook-cell:/c%3A/Users/User/SIC%20python%20Samsung/C%C3%B3digo%20profeesor%20com%20gr%C3%A1fico.ipynb#ch0000000?line=104'>105</a>\u001b[0m \u001b[39mprint\u001b[39m(i, end\u001b[39m=\u001b[39m\u001b[39m'\u001b[39m\u001b[39m'\u001b[39m)\n\u001b[0;32m    <a href='vscode-notebook-cell:/c%3A/Users/User/SIC%20python%20Samsung/C%C3%B3digo%20profeesor%20com%20gr%C3%A1fico.ipynb#ch0000000?line=105'>106</a>\u001b[0m sys\u001b[39m.\u001b[39mstdout\u001b[39m.\u001b[39mflush()\n\u001b[1;32m--> <a href='vscode-notebook-cell:/c%3A/Users/User/SIC%20python%20Samsung/C%C3%B3digo%20profeesor%20com%20gr%C3%A1fico.ipynb#ch0000000?line=106'>107</a>\u001b[0m time\u001b[39m.\u001b[39;49msleep(\u001b[39m0.2\u001b[39;49m)\n",
      "\u001b[1;31mKeyboardInterrupt\u001b[0m: "
     ]
    }
   ],
   "source": [
    "nome = input(\"Qual seu nome? \")\n",
    "print(\"*\"*80 )\n",
    " \n",
    "while True:\n",
    "    try:\n",
    "        print (\"Quais suas notas do primeiro bimestre,\", nome )\n",
    "        P11 = float(input(\"Prova 1: \"))\n",
    "        P21 = float(input(\"Prova 2: \"))\n",
    "        TR1 = float(input(\"Trabalho: \"))\n",
    "        MB1 = (P11+P21+TR1)/3\n",
    "       #x = int(input(\"Please enter a number: \"))\n",
    "        break\n",
    "    except ValueError:\n",
    "        print(\"Oops! Entre com um número válido.\")\n",
    "\n",
    "print(\"_\"*80 )\n",
    "while True:\n",
    "    try:\n",
    "        print (\"Quais suas notas do segundo bimestre,\", nome )\n",
    "        P1 = float(input(\"Prova 1: \"))\n",
    "        P2 = float(input(\"Prova 2: \"))\n",
    "        TR = float(input(\"Trabalho: \"))\n",
    "        MB2 = (P1+P2+TR)/3\n",
    "       #x = int(input(\"Please enter a number: \"))\n",
    "        break\n",
    "    except ValueError:\n",
    "        print(\"Oops! Entre com um número válido.\")\n",
    "print(\"_\"*80 )\n",
    "\n",
    "while True:\n",
    "    try:\n",
    "        print (\"Quais suas notas do terceiro bimestre,\", nome )\n",
    "        P1 = float(input(\"Prova 1: \"))\n",
    "        P2 = float(input(\"Prova 2: \"))\n",
    "        TR = float(input(\"Trabalho: \"))\n",
    "        MB3 = (P1+P2+TR)/3\n",
    "       #x = int(input(\"Please enter a number: \"))\n",
    "        break\n",
    "    except ValueError:\n",
    "      \n",
    "        print(\"Oops! Entre com um número válido.\")\n",
    "print(\"_\"*80 )\n",
    "while True:\n",
    "    try:\n",
    "        print (\"Quais suas notas do quarto bimestre,\", nome )\n",
    "        P1 = float(input(\"Prova 1: \"))\n",
    "        P2 = float(input(\"Prova 2: \"))\n",
    "        TR = float(input(\"Trabalho: \"))\n",
    "        MB4 = (P1+P2+TR)/3\n",
    "       #x = int(input(\"Please enter a number: \"))\n",
    "        break\n",
    "    except ValueError:\n",
    "        print(\"Oops! Entre com um número válido.\")\n",
    "\n",
    "\n",
    "\n",
    "   \n",
    "print(\"*\"*80 )\n",
    "\n",
    "\n",
    "MF = (MB1+MB2+MB3+MB4)/4\n",
    " \n",
    "print(\"\")\n",
    "print(\"   \",\"+\"*13, \"Seu desempenho\", \"+\"*14)\n",
    "print(\"\")\n",
    "import matplotlib.pyplot as plt\n",
    " \n",
    "plt.plot([\"1°Bim\", \"2°Bim\", \"3°Bim\", \"4°Bim\"], [MB1,MB2,MB3,MB4])\n",
    "\n",
    "plt.show()\n",
    "print('')\n",
    " \n",
    "if (MF >= 6):\n",
    "  print(\"Parabéns,\", nome, \", você foi aprovado!\" )\n",
    "if (  6>MF>=4 ):\n",
    "  print( nome, \", você deverá fazer a recuperação\" ) \n",
    "if (  4>MF ):\n",
    "  print(nome, \", você foi reprovado\" )\n",
    "print('')\n",
    "print(' ', '-'*31)\n",
    "print( '|',' '*31,'|')\n",
    "print('|',\"Média final igual a : \", \"{:5.2f}\".format(MF),'   |')\n",
    " #print(\"{:8.2f}\".format(MF))\n",
    "print( '|',' '*31,'|')\n",
    "print(' ', '-'*31)\n",
    "print('')\n",
    "print('')\n",
    "print('Mensagem motivacional:')\n",
    "print('')\n",
    "print('')\n",
    "texto = \"\"\" \n",
    "Nada é tão ruim que não possa piorar \n",
    "  Nada é tão ruim que não possa piorar\n",
    "    Nada é tão ruim que não possa piorar\n",
    "        Nada é tão ruim que não possa piorar\n",
    "            Nada é tão ruim que não possa piorar\n",
    "                Nada é tão ruim que não possa piorar\n",
    "                    Nada é tão ruim que não possa piorar\n",
    "                        Nada é tão ruim que não possa piorar\n",
    "\"\"\"\n",
    "\n",
    "import time, sys\n",
    "\n",
    "for i in list(texto):\n",
    "    print(i, end='')\n",
    "    sys.stdout.flush()\n",
    "    time.sleep(0.2)"
   ]
  }
 ],
 "metadata": {
  "kernelspec": {
   "display_name": "Python 3.9.12 ('base')",
   "language": "python",
   "name": "python3"
  },
  "language_info": {
   "codemirror_mode": {
    "name": "ipython",
    "version": 3
   },
   "file_extension": ".py",
   "mimetype": "text/x-python",
   "name": "python",
   "nbconvert_exporter": "python",
   "pygments_lexer": "ipython3",
   "version": "3.9.12"
  },
  "orig_nbformat": 4,
  "vscode": {
   "interpreter": {
    "hash": "f08154012ddadd8e950e6e9e035c7a7b32c136e7647e9b7c77e02eb723a8bedb"
   }
  }
 },
 "nbformat": 4,
 "nbformat_minor": 2
}
