{
 "cells": [
  {
   "cell_type": "code",
   "execution_count": 2,
   "metadata": {},
   "outputs": [
    {
     "name": "stdout",
     "output_type": "stream",
     "text": [
      "False\n"
     ]
    }
   ],
   "source": [
    "a = 1.0\n",
    "b = 1.0\n",
    "print(a is b) #is compara se o tipo é igual e se o que estaé escrito é igual"
   ]
  },
  {
   "cell_type": "code",
   "execution_count": 3,
   "metadata": {},
   "outputs": [
    {
     "name": "stdout",
     "output_type": "stream",
     "text": [
      "True\n"
     ]
    }
   ],
   "source": [
    "print(\"aaa\" in \"aaa - bbb - ccc\")"
   ]
  },
  {
   "cell_type": "code",
   "execution_count": 4,
   "metadata": {},
   "outputs": [
    {
     "name": "stdout",
     "output_type": "stream",
     "text": [
      "False\n"
     ]
    }
   ],
   "source": [
    "x = False\n",
    "y = False\n",
    "\n",
    "print(x and y)"
   ]
  },
  {
   "cell_type": "code",
   "execution_count": 5,
   "metadata": {},
   "outputs": [
    {
     "name": "stdout",
     "output_type": "stream",
     "text": [
      "A média é:  20.0\n"
     ]
    }
   ],
   "source": [
    "# achar a média\n",
    "\n",
    "x = int(input(\"Entre com o primeiro termo: \"))\n",
    "y = int(input(\"Entre com o segundo termo: \"))\n",
    "z = int(input(\"Entre com o terceiro termo: \"))\n",
    "\n",
    "avg = (x + y + z)/3\n",
    "print(\"A média é: \", avg)"
   ]
  },
  {
   "cell_type": "code",
   "execution_count": 6,
   "metadata": {},
   "outputs": [
    {
     "name": "stdout",
     "output_type": "stream",
     "text": [
      "idade:  18\n",
      "Desconto para jovens!!\n"
     ]
    }
   ],
   "source": [
    "age = 18\n",
    "if age < 20:\n",
    "    print(\"idade: \", age)\n",
    "    print(\"Desconto para jovens!!\")"
   ]
  },
  {
   "cell_type": "code",
   "execution_count": 9,
   "metadata": {},
   "outputs": [
    {
     "name": "stdout",
     "output_type": "stream",
     "text": [
      "O número é multiplo de 3 e 5.\n"
     ]
    }
   ],
   "source": [
    "number = int(input(\"Insira um número inteiro: \"))\n",
    "\n",
    "if (number % 3) == 0 and (number % 5) == 0:\n",
    "    print(\"O número é multiplo de 3 e 5.\")"
   ]
  },
  {
   "cell_type": "code",
   "execution_count": 10,
   "metadata": {},
   "outputs": [
    {
     "name": "stdout",
     "output_type": "stream",
     "text": [
      "['Python', 'is', 'beautiful']\n"
     ]
    }
   ],
   "source": [
    "#Split -> comando importante\n",
    "\n",
    "words = \"Python is beautiful\"\n",
    "word_list = words.split() #separa as palavras da frase\n",
    "print(word_list)"
   ]
  },
  {
   "cell_type": "code",
   "execution_count": 14,
   "metadata": {},
   "outputs": [
    {
     "name": "stdout",
     "output_type": "stream",
     "text": [
      "10 20 30\n"
     ]
    }
   ],
   "source": [
    "#default do split é o espaço mas você pode determinar o termo de separação\n",
    "\n",
    "num1,num2,num3 = input(\"Insira 3 números separados por vírgula: \").split(\",\")\n",
    "num1,num2,num3 = int(num1), int(num2), int(num3)\n",
    "print(num1,num2,num3)"
   ]
  },
  {
   "cell_type": "code",
   "execution_count": 16,
   "metadata": {},
   "outputs": [
    {
     "name": "stdout",
     "output_type": "stream",
     "text": [
      "O número é zero!\n"
     ]
    }
   ],
   "source": [
    "#if else \n",
    "num = 10\n",
    "if num < 0:\n",
    "    print(\"O número é negativo\")\n",
    "else:\n",
    "    if num == 0:\n",
    "        print(\"O número é zero!\")\n",
    "    else:\n",
    "        print(\"O número não é zero!\")"
   ]
  },
  {
   "cell_type": "code",
   "execution_count": 17,
   "metadata": {},
   "outputs": [
    {
     "name": "stdout",
     "output_type": "stream",
     "text": [
      "1 1\n",
      "2 3\n",
      "3 6\n",
      "4 10\n",
      "5 15\n",
      "6 21\n",
      "7 28\n",
      "8 36\n",
      "9 45\n",
      "10 55\n",
      "Soma dos números:  55\n"
     ]
    }
   ],
   "source": [
    "# for\n",
    "\n",
    "s = 0\n",
    "\n",
    "for i in range(1,11):\n",
    "    s += i\n",
    "    print(i,s)\n",
    "print(\"Soma dos números: \", s)"
   ]
  },
  {
   "cell_type": "code",
   "execution_count": 25,
   "metadata": {},
   "outputs": [
    {
     "name": "stdout",
     "output_type": "stream",
     "text": [
      "A soma dos números é:  150\n"
     ]
    }
   ],
   "source": [
    "#sum() -> função com palavra reservada, não usar em variaeis\n",
    "number = [10,20,30,40,50]\n",
    "print(\"A soma dos números é: \", sum(number))\n"
   ]
  },
  {
   "cell_type": "code",
   "execution_count": 26,
   "metadata": {},
   "outputs": [
    {
     "name": "stdout",
     "output_type": "stream",
     "text": [
      "H e l l o "
     ]
    }
   ],
   "source": [
    "for ch in \"Hello\":\n",
    "    print(ch, end=\" \")"
   ]
  },
  {
   "cell_type": "code",
   "execution_count": 31,
   "metadata": {},
   "outputs": [
    {
     "name": "stdout",
     "output_type": "stream",
     "text": [
      "  100\n"
     ]
    }
   ],
   "source": [
    "#Estrutura format\n",
    "print('{:5d}'.format(100))"
   ]
  },
  {
   "cell_type": "code",
   "execution_count": 33,
   "metadata": {},
   "outputs": [
    {
     "name": "stdout",
     "output_type": "stream",
     "text": [
      " 3.140\n"
     ]
    }
   ],
   "source": [
    "print('{:6.3f}'.format(3.14))"
   ]
  },
  {
   "cell_type": "code",
   "execution_count": 34,
   "metadata": {},
   "outputs": [
    {
     "name": "stdout",
     "output_type": "stream",
     "text": [
      "0\n",
      "1\n",
      "2\n",
      "3\n",
      "4\n",
      "5\n",
      "6\n",
      "7\n",
      "8\n",
      "9\n",
      "10\n"
     ]
    }
   ],
   "source": [
    "#while\n",
    "i = 0\n",
    "while i <= 10:\n",
    "    print(i)\n",
    "    i += 1"
   ]
  },
  {
   "cell_type": "code",
   "execution_count": 37,
   "metadata": {},
   "outputs": [
    {
     "name": "stdout",
     "output_type": "stream",
     "text": [
      "Soma de 1 a 5 é 15\n"
     ]
    }
   ],
   "source": [
    "n = int(input(\"Digite um número: \"))\n",
    "s = 0\n",
    "i = 1\n",
    "\n",
    "while i <= n:\n",
    "    s = s + i\n",
    "    i += 1\n",
    "print(\"Soma de 1 a {} é {}\".format(n,s))\n"
   ]
  },
  {
   "cell_type": "code",
   "execution_count": null,
   "metadata": {},
   "outputs": [],
   "source": [
    "# random -> número aleatorio\n",
    "# break -> Quebra o laço"
   ]
  }
 ],
 "metadata": {
  "kernelspec": {
   "display_name": "Python 3.9.12 ('base')",
   "language": "python",
   "name": "python3"
  },
  "language_info": {
   "codemirror_mode": {
    "name": "ipython",
    "version": 3
   },
   "file_extension": ".py",
   "mimetype": "text/x-python",
   "name": "python",
   "nbconvert_exporter": "python",
   "pygments_lexer": "ipython3",
   "version": "3.9.12"
  },
  "orig_nbformat": 4,
  "vscode": {
   "interpreter": {
    "hash": "f08154012ddadd8e950e6e9e035c7a7b32c136e7647e9b7c77e02eb723a8bedb"
   }
  }
 },
 "nbformat": 4,
 "nbformat_minor": 2
}
