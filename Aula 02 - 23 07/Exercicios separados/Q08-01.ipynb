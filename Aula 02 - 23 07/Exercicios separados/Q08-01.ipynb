{
 "cells": [
  {
   "cell_type": "code",
   "execution_count": null,
   "metadata": {},
   "outputs": [],
   "source": [
    "'''Entre os números naturais positivos diferentes de 1, um número que não é primo é chamado de número composto. \n",
    "Imprima os números primos e compostos de 2 a 12.\n",
    "\n",
    "Uma expressão deve determinar se o número é primo ou composto, caso seja composto, deve ser impresso na tela.'''\n",
    "\n",
    "#EX Q08-01\n",
    "\n",
    "x = 2\n",
    "\n",
    "while x <= 12:\n",
    "    print(x)\n",
    "    x = x + 1"
   ]
  }
 ],
 "metadata": {
  "kernelspec": {
   "display_name": "Python 3.9.12 ('base')",
   "language": "python",
   "name": "python3"
  },
  "language_info": {
   "name": "python",
   "version": "3.9.12"
  },
  "orig_nbformat": 4,
  "vscode": {
   "interpreter": {
    "hash": "f08154012ddadd8e950e6e9e035c7a7b32c136e7647e9b7c77e02eb723a8bedb"
   }
  }
 },
 "nbformat": 4,
 "nbformat_minor": 2
}
