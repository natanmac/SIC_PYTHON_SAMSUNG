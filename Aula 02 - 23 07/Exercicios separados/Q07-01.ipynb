{
 "cells": [
  {
   "cell_type": "code",
   "execution_count": null,
   "metadata": {},
   "outputs": [],
   "source": [
    "'''Escreva um programa onde o usuário deve responder duas perguntas, \n",
    "se é maior de idade e se é casado, depois imprima o resultado.\n",
    "\n",
    "Exemplo:\n",
    "\n",
    "\n",
    "Você é maior de idade? (digite 1 se sim, 0 se não): 1\n",
    "Você é casado(a)? (digite 1 se sim, 0 se não): 0\n",
    "Você é maior de idade e solteiro.\n",
    "'''\n",
    "\n",
    "#EX Q07-01\n",
    "\n",
    "mIdade = ''\n",
    "eCasado = ''\n",
    "\n",
    "while mIdade != 0 and mIdade != 1:\n",
    "    mIdade = int(input(\"Você é maior de idade? (digite 1 se sim, 0 se não)\"))\n",
    "\n",
    "while eCasado != 0 and eCasado != 1:\n",
    "    eCasado = int(input(\"Você é casado? (digite 1 se sim, 0 se não)\"))\n",
    "\n",
    "if((mIdade == 0) and (eCasado == 0)):\n",
    "    print(\"Você é menor de idade e não é casado!\")\n",
    "elif((mIdade == 1) and (eCasado == 0)):\n",
    "    print(\"Você é maior de idade e não é casado!\")\n",
    "elif((mIdade == 1) and (eCasado == 1)):\n",
    "    print(\"Você é maior de idade e é casado!\")\n",
    "else:\n",
    "    print(\"Você é menor de idade e casado!\")"
   ]
  }
 ],
 "metadata": {
  "kernelspec": {
   "display_name": "Python 3.9.12 ('base')",
   "language": "python",
   "name": "python3"
  },
  "language_info": {
   "name": "python",
   "version": "3.9.12"
  },
  "orig_nbformat": 4,
  "vscode": {
   "interpreter": {
    "hash": "f08154012ddadd8e950e6e9e035c7a7b32c136e7647e9b7c77e02eb723a8bedb"
   }
  }
 },
 "nbformat": 4,
 "nbformat_minor": 2
}
