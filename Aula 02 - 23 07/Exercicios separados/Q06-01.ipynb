{
 "cells": [
  {
   "cell_type": "code",
   "execution_count": 1,
   "metadata": {},
   "outputs": [
    {
     "name": "stdout",
     "output_type": "stream",
     "text": [
      "Os números inseridos em ordem crescente são:  01  e  22\n"
     ]
    }
   ],
   "source": [
    "#Escreva um programa que leia 2 entradas do usuário e as imprima do menor para o maior.\n",
    "\n",
    "'''(Restrição: dois números inteiros não são o mesmo número)\n",
    "\n",
    "Exemplo:\n",
    "\n",
    "\n",
    "Insira dois números inteiros: 14 10\n",
    "Os números inseridos em ordem crescente são: 10 14''' \n",
    "\n",
    "#EX Q06-01\n",
    "\n",
    "num1 = input(\"Insira o primeiro número: \")\n",
    "num2 = input(\"Insira o segundo número: \")\n",
    "\n",
    "if(num1<num2):\n",
    "    print(\"Os números inseridos em ordem crescente são: \", num1, \" e \", num2)\n",
    "else:\n",
    "    print(\"Os números inseridos em ordem crescente são: \", num2, \" e \", num1)"
   ]
  }
 ],
 "metadata": {
  "kernelspec": {
   "display_name": "Python 3.9.12 ('base')",
   "language": "python",
   "name": "python3"
  },
  "language_info": {
   "codemirror_mode": {
    "name": "ipython",
    "version": 3
   },
   "file_extension": ".py",
   "mimetype": "text/x-python",
   "name": "python",
   "nbconvert_exporter": "python",
   "pygments_lexer": "ipython3",
   "version": "3.9.12"
  },
  "orig_nbformat": 4,
  "vscode": {
   "interpreter": {
    "hash": "f08154012ddadd8e950e6e9e035c7a7b32c136e7647e9b7c77e02eb723a8bedb"
   }
  }
 },
 "nbformat": 4,
 "nbformat_minor": 2
}
