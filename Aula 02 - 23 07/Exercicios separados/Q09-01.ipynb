{
 "cells": [
  {
   "cell_type": "code",
   "execution_count": 1,
   "metadata": {},
   "outputs": [
    {
     "name": "stdout",
     "output_type": "stream",
     "text": [
      "Os números de Armstrog são:  [153, 370, 371, 407]\n"
     ]
    }
   ],
   "source": [
    "'''Um número Armstrong é um número inteiro de três dígitos que é igual à soma dos cubos de cada dígito. \n",
    "Encontre todos os números Armstrong entre números inteiros de três dígitos e imprima-os.\n",
    "\n",
    "Exemplo: \n",
    "\n",
    "153 é um número Armstrong, pois 1³+5³+3³ = 1+125+27 = 153'''\n",
    "\n",
    "#EX Q09-01\n",
    "\n",
    "num = 100\n",
    "j = 0\n",
    "fim = []\n",
    "\n",
    "while num < 1000:\n",
    "    x = [int(a) for a in str(num)] #Separa os números e cria um array com eles\n",
    "\n",
    "    for i in x:\n",
    "        i = i**3\n",
    "        j = j + i\n",
    "    \n",
    "    if (j == num):\n",
    "        fim.append(j)\n",
    "    \n",
    "    num = num + 1\n",
    "    x.clear()\n",
    "    j = 0\n",
    "\n",
    "print(\"Os números de Armstrog são: \", fim)"
   ]
  }
 ],
 "metadata": {
  "kernelspec": {
   "display_name": "Python 3.9.12 ('base')",
   "language": "python",
   "name": "python3"
  },
  "language_info": {
   "codemirror_mode": {
    "name": "ipython",
    "version": 3
   },
   "file_extension": ".py",
   "mimetype": "text/x-python",
   "name": "python",
   "nbconvert_exporter": "python",
   "pygments_lexer": "ipython3",
   "version": "3.9.12"
  },
  "orig_nbformat": 4,
  "vscode": {
   "interpreter": {
    "hash": "f08154012ddadd8e950e6e9e035c7a7b32c136e7647e9b7c77e02eb723a8bedb"
   }
  }
 },
 "nbformat": 4,
 "nbformat_minor": 2
}
