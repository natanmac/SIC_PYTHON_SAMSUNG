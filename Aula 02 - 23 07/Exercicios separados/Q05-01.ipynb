{
 "cells": [
  {
   "cell_type": "code",
   "execution_count": 1,
   "metadata": {},
   "outputs": [
    {
     "name": "stdout",
     "output_type": "stream",
     "text": [
      "0\n",
      "1\n",
      "False\n",
      "True\n"
     ]
    }
   ],
   "source": [
    "#Usando os operadores lógicos \"and\", \"or\" e \"not\" escreva um programa que, dado x = 1 e y = 0, \n",
    "# imprima os seguintes resultados: \n",
    "#0\n",
    "#1\n",
    "#False\n",
    "#True \n",
    "\n",
    "#EX Q05 - 01\n",
    "\n",
    "x = 1\n",
    "y = 0\n",
    "\n",
    "print(y)\n",
    "print(x)\n",
    "print((x or y) > 2)\n",
    "print((x and y) >= 0)"
   ]
  }
 ],
 "metadata": {
  "kernelspec": {
   "display_name": "Python 3.9.12 ('base')",
   "language": "python",
   "name": "python3"
  },
  "language_info": {
   "codemirror_mode": {
    "name": "ipython",
    "version": 3
   },
   "file_extension": ".py",
   "mimetype": "text/x-python",
   "name": "python",
   "nbconvert_exporter": "python",
   "pygments_lexer": "ipython3",
   "version": "3.9.12"
  },
  "orig_nbformat": 4,
  "vscode": {
   "interpreter": {
    "hash": "f08154012ddadd8e950e6e9e035c7a7b32c136e7647e9b7c77e02eb723a8bedb"
   }
  }
 },
 "nbformat": 4,
 "nbformat_minor": 2
}
