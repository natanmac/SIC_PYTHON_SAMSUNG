{
 "cells": [
  {
   "cell_type": "code",
   "execution_count": 36,
   "metadata": {},
   "outputs": [
    {
     "name": "stdout",
     "output_type": "stream",
     "text": [
      "['Banana', 'Maçã', 'Morango']\n"
     ]
    }
   ],
   "source": [
    "#Q 22-01\n",
    "\n",
    "class Stack:\n",
    "\n",
    "  def __init__(self):\n",
    "    self.stack = []\n",
    "\n",
    "  def is_empty(self):\n",
    "    return True if len(self.stack) == 0 else False\n",
    "\n",
    "  def push(self, item):\n",
    "    self.stack.append(item)\n",
    "\n",
    "  def pop(self):\n",
    "    return None if self.is_empty() else self.stack.pop()\n",
    "\n",
    "stack = Stack()\n",
    "stack.push(\"Banana\")\n",
    "stack.push(\"Maçã\")\n",
    "stack.push(\"Tomate\")\n",
    "stack.pop()\n",
    "stack.push(\"Morango\")\n",
    "stack.push(\"Uva\")\n",
    "stack.pop()\n",
    "print(stack.stack)\n",
    "\n",
    "# Saída:\n",
    "#['Banana', 'Maçã', 'Morango']"
   ]
  },
  {
   "cell_type": "code",
   "execution_count": 28,
   "metadata": {},
   "outputs": [
    {
     "name": "stdout",
     "output_type": "stream",
     "text": [
      "[10, 30, 50, 70, 90]\n"
     ]
    }
   ],
   "source": [
    "#Q 22-02\n",
    "\n",
    "class Stack:\n",
    "\n",
    "  def __init__(self):\n",
    "    self.stack = []\n",
    "\n",
    "  def is_empty(self):\n",
    "    return True if len(self.stack) == 0 else False\n",
    "\n",
    "  def push(self, item):\n",
    "    self.stack.append(item)\n",
    "\n",
    "  def pop(self):\n",
    "    return None if self.is_empty() else self.stack.pop()\n",
    "\n",
    "stack = Stack()\n",
    "items = [10 * i for i in range(1, 10)]\n",
    "for item in items:\n",
    "    stack.push(item)\n",
    "    if (item // 10) % 2 == 0:\n",
    "        stack.pop()\n",
    "print(stack.stack)\n",
    "\n",
    "#Saída:\n",
    "#[10, 30, 50, 70, 90]"
   ]
  },
  {
   "cell_type": "code",
   "execution_count": 35,
   "metadata": {},
   "outputs": [
    {
     "name": "stdout",
     "output_type": "stream",
     "text": [
      "[60, 70, 80, 90, 100]\n"
     ]
    }
   ],
   "source": [
    "#Q 23-01\n",
    "\n",
    "class Queue:\n",
    "\n",
    "  def __init__(self):\n",
    "     self.queue = []\n",
    "\n",
    "  def is_empty(self):\n",
    "     return True if len(self.queue) == 0 else False\n",
    "\n",
    "  def enqueue (self, item):\n",
    "     self.queue.append(item)\n",
    "\n",
    "  def dequeue(self):\n",
    "     return None if self.is_empty() else self.queue.pop(0)\n",
    "\n",
    "queue = Queue()\n",
    "items = [10 * i for i in range(1, 11)]\n",
    "for item in items:\n",
    "    queue.enqueue(item)\n",
    "    if (item // 10) % 2 == 0:\n",
    "        queue.dequeue()\n",
    "print(queue.queue)\n",
    "\n",
    "#Saída:\n",
    "#[60, 70, 80, 90, 100]"
   ]
  },
  {
   "cell_type": "code",
   "execution_count": 1,
   "metadata": {},
   "outputs": [
    {
     "name": "stdout",
     "output_type": "stream",
     "text": [
      "3\n",
      "59 11\n"
     ]
    }
   ],
   "source": [
    "#Q 24-01\n",
    "def find_two(nums):\n",
    "    x = y = cont = 0\n",
    "    for i in range(1, len(nums)):\n",
    "        if nums[x] < nums[i]:\n",
    "            x = i\n",
    "            cont += 1\n",
    "        elif nums[y] > nums[i]:\n",
    "            y = i\n",
    "            cont += 1\n",
    "    print(cont)\n",
    "    return x, y\n",
    "nums = [11, 37, 45, 26, 59, 28, 17, 53]\n",
    "i, j = find_two(nums)\n",
    "print(nums[i], nums[j])\n",
    "\n",
    "#Q 24-02\n",
    "'''Pelo que entendi, o for vai percorrer todos números do Array nums porém o comparador if só vai de fato entrar nas condições\n",
    "caso atenda os requisitos. Incorporei uma contador cont para verificar quantas vezes ele compar e o código retorna 3 comparações.'''\n",
    "\n",
    "#Saída:\n",
    "#3\n",
    "#59 11"
   ]
  },
  {
   "cell_type": "code",
   "execution_count": 8,
   "metadata": {},
   "outputs": [
    {
     "name": "stdout",
     "output_type": "stream",
     "text": [
      "Seu número é 51.\n",
      "Foram procuradas 6 vezes.!\n"
     ]
    }
   ],
   "source": [
    "#Q 25-01\n",
    "import random\n",
    "#from random import randit\n",
    "\n",
    "maximum = int(input(\"Insira o valor máximo: \"))\n",
    "number = int(input(\"Insira o chute: \"))\n",
    "count = 0\n",
    "low, high = 1, maximum\n",
    "while low < high:\n",
    "    mid = (low + high) // 2\n",
    "    count += 1\n",
    "    if mid == number:\n",
    "        print(f\"Seu número é {number}.\")\n",
    "        break\n",
    "    elif mid > number:\n",
    "        high = mid - 1\n",
    "    else:\n",
    "        low = mid + 1\n",
    "print(f\"Foram procuradas {count} vezes.!\")\n",
    "\n",
    "#Saída:\n",
    "# Seu número é 51.\n",
    "# Foram procuradas 6 vezes.!"
   ]
  },
  {
   "cell_type": "code",
   "execution_count": 9,
   "metadata": {},
   "outputs": [
    {
     "name": "stdout",
     "output_type": "stream",
     "text": [
      "Seu número é 25.\n",
      "Foram procuradas 2 vezes.!\n"
     ]
    }
   ],
   "source": [
    "#Q 25-02\n",
    "import random\n",
    "#from random import randit\n",
    "\n",
    "maximum = int(input(\"Insira o valor máximo: \"))\n",
    "number = int(input(\"Insira o chute: \"))\n",
    "count = 0\n",
    "low, high = 1, maximum\n",
    "while low < high:\n",
    "    mid = (low + high) // 2\n",
    "    count += 1\n",
    "    if mid == number:\n",
    "        print(f\"Seu número é {number}.\")\n",
    "        break\n",
    "    elif mid > number:\n",
    "        high = mid - 1\n",
    "    else:\n",
    "        low = mid + 1\n",
    "print(f\"Foram procuradas {count} vezes.!\")\n",
    "\n",
    "#Saída:\n",
    "# Seu número é 25.\n",
    "# Foram procuradas 2 vezes.!"
   ]
  },
  {
   "cell_type": "code",
   "execution_count": 13,
   "metadata": {},
   "outputs": [
    {
     "name": "stdout",
     "output_type": "stream",
     "text": [
      "2764 4\n"
     ]
    }
   ],
   "source": [
    "#Q 26-01\n",
    "\n",
    "class HashTable:\n",
    "\n",
    "    def __init__(self, size):\n",
    "        self.size = size\n",
    "        self.table = {}\n",
    "        for i in range(size):\n",
    "            self.table[i] = []\n",
    "\n",
    "    def hash(self, key):\n",
    "        return key % self.size\n",
    "\n",
    "    def get(self, key):\n",
    "        return self.table[self.hash(key)]\n",
    "\n",
    "    def put(self, key, value):\n",
    "        bucket = self.table[self.hash(key)]\n",
    "        if value not in bucket:\n",
    "           bucket.append(value)\n",
    "\n",
    "table = HashTable(8)\n",
    "book = \"Alice no país das maravilhas\"\n",
    "key = sum(map(ord, book))\n",
    "print(key, table.hash(key))\n",
    "\n",
    "# Saída:\n",
    "# 2764 4"
   ]
  },
  {
   "cell_type": "code",
   "execution_count": 12,
   "metadata": {},
   "outputs": [
    {
     "name": "stdout",
     "output_type": "stream",
     "text": [
      "0 ['Alice do País das Maravilhas']\n",
      "1 ['O Velho Homem e o Mar']\n",
      "2 ['A Última Folha']\n",
      "3 []\n",
      "4 ['O Pequeno Príncipe']\n",
      "5 ['A Bela e a Fera']\n",
      "6 []\n",
      "7 []\n",
      "8 []\n",
      "9 ['A Pequena Sereia']\n"
     ]
    }
   ],
   "source": [
    "#Q 26-02\n",
    "\n",
    "table = HashTable(10)\n",
    "books = [\n",
    "    \"O Pequeno Príncipe\",\n",
    "    \"O Velho Homem e o Mar\",\n",
    "    \"A Pequena Sereia\",\n",
    "    \"A Bela e a Fera\",\n",
    "    \"A Última Folha\",\n",
    "    \"Alice do País das Maravilhas\"\n",
    "]\n",
    "for book in books:\n",
    "    key = sum(map(ord, book))\n",
    "    table.put(key, book)\n",
    "for key in table.table.keys():\n",
    "    print(key, table.table[key])\n",
    "\n",
    "# Saída:\n",
    "# 0 ['Alice do País das Maravilhas']\n",
    "# 1 ['O Velho Homem e o Mar']\n",
    "# 2 ['A Última Folha']\n",
    "# 3 []\n",
    "# 4 ['O Pequeno Príncipe']\n",
    "# 5 ['A Bela e a Fera']\n",
    "# 6 []\n",
    "# 7 []\n",
    "# 8 []\n",
    "# 9 ['A Pequena Sereia']"
   ]
  }
 ],
 "metadata": {
  "kernelspec": {
   "display_name": "Python 3.9.12 ('base')",
   "language": "python",
   "name": "python3"
  },
  "language_info": {
   "codemirror_mode": {
    "name": "ipython",
    "version": 3
   },
   "file_extension": ".py",
   "mimetype": "text/x-python",
   "name": "python",
   "nbconvert_exporter": "python",
   "pygments_lexer": "ipython3",
   "version": "3.9.12"
  },
  "orig_nbformat": 4,
  "vscode": {
   "interpreter": {
    "hash": "f08154012ddadd8e950e6e9e035c7a7b32c136e7647e9b7c77e02eb723a8bedb"
   }
  }
 },
 "nbformat": 4,
 "nbformat_minor": 2
}
